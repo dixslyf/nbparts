{
 "cells": [
  {
   "cell_type": "code",
   "execution_count": 1,
   "id": "1e5320dc-6487-49a1-9a2b-029817d1f4dc",
   "metadata": {},
   "outputs": [
    {
     "name": "stdout",
     "output_type": "stream",
     "text": [
      "foobar\n"
     ]
    }
   ],
   "source": [
    "print(\"foobar\")"
   ]
  },
  {
   "cell_type": "code",
   "execution_count": 2,
   "metadata": {},
   "outputs": [
    {
     "name": "stdout",
     "output_type": "stream",
     "text": [
      "barbaz\n"
     ]
    }
   ],
   "source": [
    "print(\"barbaz\")"
   ]
  },
  {
   "cell_type": "code",
   "execution_count": 3,
   "id": "bcbb5546-9d09-40dc-9936-f6ec3355c893",
   "metadata": {},
   "outputs": [
    {
     "name": "stdout",
     "output_type": "stream",
     "text": [
      "bazqux\n"
     ]
    }
   ],
   "source": [
    "print(\"bazqux\")"
   ]
  }
 ],
 "metadata": {
  "kernelspec": {
   "display_name": "Python 3 (ipykernel)",
   "language": "python",
   "name": "python3"
  },
  "language_info": {
   "codemirror_mode": {
    "name": "ipython",
    "version": 3
   },
   "file_extension": ".py",
   "mimetype": "text/x-python",
   "name": "python",
   "nbconvert_exporter": "python",
   "pygments_lexer": "ipython3",
   "version": "3.13.5"
  }
 },
 "nbformat": 4,
 "nbformat_minor": 5
}
