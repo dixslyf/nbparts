{
 "cells": [
  {
   "cell_type": "markdown",
   "id": "40833e31-cc99-4a88-9364-72920cfdf07c",
   "metadata": {},
   "source": [
    "This is an inline equation: $e^{i\\pi} + 1 = 0$"
   ]
  },
  {
   "cell_type": "markdown",
   "id": "6f145d18-19e5-4540-bbea-47634b78bdef",
   "metadata": {},
   "source": [
    "This is a display equation:\n",
    "$$\n",
    "e^{i\\pi} + 1 = 0\n",
    "$$\n",
    "Alternative syntax:\n",
    "\\begin{equation}\n",
    "e^{i\\pi} + 1 = 0\n",
    "\\end{equation}"
   ]
  }
 ],
 "metadata": {
  "kernelspec": {
   "display_name": "Python 3 (ipykernel)",
   "language": "python",
   "name": "python3"
  },
  "language_info": {
   "codemirror_mode": {
    "name": "ipython",
    "version": 3
   },
   "file_extension": ".py",
   "mimetype": "text/x-python",
   "name": "python",
   "nbconvert_exporter": "python",
   "pygments_lexer": "ipython3",
   "version": "3.13.5"
  }
 },
 "nbformat": 4,
 "nbformat_minor": 5
}
