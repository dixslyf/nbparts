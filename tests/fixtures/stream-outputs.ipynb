{
 "cells": [
  {
   "cell_type": "code",
   "execution_count": 1,
   "id": "73e0d27a-7984-4b85-9e56-dc4d0f1747a5",
   "metadata": {},
   "outputs": [],
   "source": [
    "import sys"
   ]
  },
  {
   "cell_type": "code",
   "execution_count": 2,
   "id": "f363d4de-bb18-4b15-bde1-4a6ba4a64092",
   "metadata": {},
   "outputs": [
    {
     "name": "stdout",
     "output_type": "stream",
     "text": [
      "stdout1\n",
      "stdout2\n",
      "stdout3\n"
     ]
    }
   ],
   "source": [
    "print(\"stdout1\")\n",
    "print(\"stdout2\")\n",
    "print(\"stdout3\")"
   ]
  },
  {
   "cell_type": "code",
   "execution_count": 3,
   "id": "821bba35-69bc-40e1-96b6-d1cd17bd240a",
   "metadata": {},
   "outputs": [
    {
     "name": "stderr",
     "output_type": "stream",
     "text": [
      "stderr1\n",
      "stderr2\n",
      "stderr3\n"
     ]
    }
   ],
   "source": [
    "print(\"stderr1\", file=sys.stderr)\n",
    "print(\"stderr2\", file=sys.stderr)\n",
    "print(\"stderr3\", file=sys.stderr)"
   ]
  },
  {
   "cell_type": "code",
   "execution_count": 4,
   "id": "dd342354-6730-4aad-94a4-376d8509c062",
   "metadata": {},
   "outputs": [
    {
     "name": "stdout",
     "output_type": "stream",
     "text": [
      "stdout1\n",
      "stdout2\n",
      "stdout3\n"
     ]
    },
    {
     "name": "stderr",
     "output_type": "stream",
     "text": [
      "stderr1\n",
      "stderr2\n",
      "stderr3\n"
     ]
    }
   ],
   "source": [
    "print(\"stdout1\")\n",
    "print(\"stderr1\", file=sys.stderr)\n",
    "print(\"stdout2\")\n",
    "print(\"stderr2\", file=sys.stderr)\n",
    "print(\"stdout3\")\n",
    "print(\"stderr3\", file=sys.stderr)"
   ]
  },
  {
   "cell_type": "code",
   "execution_count": 5,
   "id": "411f04eb-88c8-4e77-88fd-b7c223c7fe20",
   "metadata": {},
   "outputs": [
    {
     "name": "stdout",
     "output_type": "stream",
     "text": [
      "stdout1\n"
     ]
    },
    {
     "name": "stderr",
     "output_type": "stream",
     "text": [
      "stderr1\n"
     ]
    },
    {
     "name": "stdout",
     "output_type": "stream",
     "text": [
      "stdout2\n"
     ]
    },
    {
     "name": "stderr",
     "output_type": "stream",
     "text": [
      "stderr2\n"
     ]
    },
    {
     "name": "stdout",
     "output_type": "stream",
     "text": [
      "stdout3\n"
     ]
    },
    {
     "name": "stderr",
     "output_type": "stream",
     "text": [
      "stderr3\n"
     ]
    }
   ],
   "source": [
    "print(\"stdout1\", flush=True)\n",
    "print(\"stderr1\", file=sys.stderr, flush=True)\n",
    "print(\"stdout2\", flush=True)\n",
    "print(\"stderr2\", file=sys.stderr, flush=True)\n",
    "print(\"stdout3\", flush=True)\n",
    "print(\"stderr3\", file=sys.stderr, flush=True)"
   ]
  }
 ],
 "metadata": {
  "kernelspec": {
   "display_name": "Python 3 (ipykernel)",
   "language": "python",
   "name": "python3"
  },
  "language_info": {
   "codemirror_mode": {
    "name": "ipython",
    "version": 3
   },
   "file_extension": ".py",
   "mimetype": "text/x-python",
   "name": "python",
   "nbconvert_exporter": "python",
   "pygments_lexer": "ipython3",
   "version": "3.13.5"
  }
 },
 "nbformat": 4,
 "nbformat_minor": 5
}
