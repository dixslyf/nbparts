{
 "cells": [
  {
   "cell_type": "markdown",
   "id": "08731441-a097-4733-b026-1d2f66971a2e",
   "metadata": {},
   "source": [
    "<!-- nbparts:cell {\"attachments\":null,\"cellType\":\"markdown\",\"id\":\"08731441-a097-4733-b026-1d2f66971a2e\"} -->"
   ]
  },
  {
   "cell_type": "markdown",
   "id": "0ea0b4a2-0c19-4c6a-bccf-d19ea2d867bb",
   "metadata": {},
   "source": [
    "<!--nbparts:cell {\"attachments\":null,\"cellType\":\"markdown\",\"id\":\"08731441-a097-4733-b026-1d2f66971a2e\"}-->"
   ]
  },
  {
   "cell_type": "markdown",
   "id": "f0af935e-ead5-42c6-add7-23194559d102",
   "metadata": {},
   "source": [
    "<!--\n",
    "nbparts:cell {\"attachments\":null,\"cellType\":\"markdown\",\"id\":\"08731441-a097-4733-b026-1d2f66971a2e\"}\n",
    "-->"
   ]
  },
  {
   "cell_type": "markdown",
   "id": "2a48bc49-31b5-40bc-848c-da18173c4437",
   "metadata": {},
   "source": [
    "<!--   \n",
    "            nbparts:cell {\"attachments\":null,\"cellType\":\"markdown\",\"id\":\"08731441-a097-4733-b026-1d2f66971a2e\"}\n",
    "            -->"
   ]
  },
  {
   "cell_type": "markdown",
   "id": "7cd2fb92-762b-496b-b2ec-d5acf45dd95c",
   "metadata": {},
   "source": [
    "foo <!-- nbparts:cell {\"attachments\":null,\"cellType\":\"markdown\",\"id\":\"08731441-a097-4733-b026-1d2f66971a2e\"} --> bar"
   ]
  },
  {
   "cell_type": "markdown",
   "id": "4c042fbf-05ac-447d-8037-153dd31c00dd",
   "metadata": {},
   "source": [
    "foo <!--nbparts:cell {\"attachments\":null,\"cellType\":\"markdown\",\"id\":\"08731441-a097-4733-b026-1d2f66971a2e\"}--> bar"
   ]
  },
  {
   "cell_type": "markdown",
   "id": "867800aa-f425-4fff-8b05-e04f6dd25cb2",
   "metadata": {},
   "source": [
    "foo <!--\n",
    "nbparts:cell {\"attachments\":null,\"cellType\":\"markdown\",\"id\":\"08731441-a097-4733-b026-1d2f66971a2e\"}\n",
    "--> bar"
   ]
  },
  {
   "cell_type": "markdown",
   "id": "907542c5-cdf5-4c9a-bdeb-c14b2d302c73",
   "metadata": {},
   "source": [
    "foo <!--   \n",
    "            nbparts:cell {\"attachments\":null,\"cellType\":\"markdown\",\"id\":\"08731441-a097-4733-b026-1d2f66971a2e\"}\n",
    "            --> bar"
   ]
  },
  {
   "cell_type": "markdown",
   "id": "e1c1e0df-00b0-483d-9dc5-6ebd92ee8e51",
   "metadata": {},
   "source": [
    "<!-- nbparts:cell {\"attachments\":null,\"cellType\":\"markdown\",\"id\":\"08731441-a097-4733-b026-1d2f66971a2e\"} -->\n",
    "foo <!-- nbparts:cell {\"attachments\":null,\"cellType\":\"markdown\",\"id\":\"08731441-a097-4733-b026-1d2f66971a2e\"} --> bar"
   ]
  },
  {
   "cell_type": "markdown",
   "id": "fe3dc52f-3c54-4825-9943-b43877d3b7bf",
   "metadata": {},
   "source": [
    "<!-- plain comment -->"
   ]
  },
  {
   "cell_type": "markdown",
   "id": "04973871-1361-4f92-a290-c4a3a21c4273",
   "metadata": {},
   "source": [
    "<!-- com\\ment w\\\\ith back\\\\\\sla\\she\\\\s -->"
   ]
  },
  {
   "cell_type": "markdown",
   "id": "c9ae7ab7-8f45-48d7-843c-16bc90e21e5a",
   "metadata": {},
   "source": [
    "<!-- this is\n",
    "    a multiline    \n",
    "       comment -->"
   ]
  },
  {
   "cell_type": "markdown",
   "id": "c1c405f3-5126-4678-8d0e-a75d10d00778",
   "metadata": {},
   "source": [
    "<!-- this is \\\n",
    "    a multiline     \\\\\\\\\n",
    "       comment w\\\\ith\n",
    "       b\\ack\\\\\\slashes -->"
   ]
  },
  {
   "cell_type": "markdown",
   "id": "a684ba49-b012-4d85-afc8-5b8995297a0d",
   "metadata": {},
   "source": [
    "foo <!-- plain comment --> bar"
   ]
  },
  {
   "cell_type": "markdown",
   "id": "1defed92-2af0-49c3-87a8-c024cb30d888",
   "metadata": {},
   "source": [
    "foo <!-- com\\ment w\\\\ith back\\\\\\sla\\she\\\\s --> bar"
   ]
  },
  {
   "cell_type": "markdown",
   "id": "c5091928-5cd6-473a-bb6c-cdd6001347da",
   "metadata": {},
   "source": [
    "foo <!-- this is\n",
    "    a multiline    \n",
    "       comment --> bar"
   ]
  },
  {
   "cell_type": "markdown",
   "id": "314fef4d-d154-4489-a716-a0a37fcffa5b",
   "metadata": {},
   "source": [
    "foo <!-- this is \\\n",
    "    a multiline     \\\\\\\\\n",
    "       comment w\\\\ith\n",
    "       b\\ack\\\\\\slashes --> bar"
   ]
  }
 ],
 "metadata": {
  "kernelspec": {
   "display_name": "Python 3 (ipykernel)",
   "language": "python",
   "name": "python3"
  },
  "language_info": {
   "codemirror_mode": {
    "name": "ipython",
    "version": 3
   },
   "file_extension": ".py",
   "mimetype": "text/x-python",
   "name": "python",
   "nbconvert_exporter": "python",
   "pygments_lexer": "ipython3",
   "version": "3.13.5"
  }
 },
 "nbformat": 4,
 "nbformat_minor": 5
}
