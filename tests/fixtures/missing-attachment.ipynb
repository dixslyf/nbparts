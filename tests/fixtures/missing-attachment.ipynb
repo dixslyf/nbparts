{
 "cells": [
  {
   "cell_type": "markdown",
   "id": "1458b00e-8948-451b-978b-856c713cae1d",
   "metadata": {},
   "source": [
    "This cell has a missing cell attachment.\n",
    "\n",
    "![some missing attachment](attachment:foobar.png)"
   ]
  }
 ],
 "metadata": {
  "kernelspec": {
   "display_name": "Python 3 (ipykernel)",
   "language": "python",
   "name": "python3"
  },
  "language_info": {
   "codemirror_mode": {
    "name": "ipython",
    "version": 3
   },
   "file_extension": ".py",
   "mimetype": "text/x-python",
   "name": "python",
   "nbconvert_exporter": "python",
   "pygments_lexer": "ipython3",
   "version": "3.13.5"
  }
 },
 "nbformat": 4,
 "nbformat_minor": 5
}
