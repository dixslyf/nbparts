{
 "cells": [
  {
   "cell_type": "raw",
   "id": "b200beeb-d47d-4843-8ec3-a59851221419",
   "metadata": {},
   "source": [
    "---\n",
    "title: raw-cells\n",
    "foo: bar\n",
    "---"
   ]
  },
  {
   "cell_type": "raw",
   "id": "62bbc5b8-87d6-4503-a6b3-15311a2fe625",
   "metadata": {},
   "source": [
    "**foo** *bar*"
   ]
  },
  {
   "cell_type": "raw",
   "id": "6d7bea0c-117d-4a94-aa88-8d79e844f03d",
   "metadata": {},
   "source": [
    "<div>\n",
    "  <p>foobar</p>\n",
    "</div>"
   ]
  },
  {
   "cell_type": "raw",
   "id": "40ce8600-0eb6-405c-8bc2-51fe74677e82",
   "metadata": {},
   "source": [
    "\\emph{foo} \\textbf{bar}"
   ]
  },
  {
   "cell_type": "raw",
   "id": "cbfc6ac6-d368-4af4-be1a-5d105c3b8461",
   "metadata": {},
   "source": [
    "print(\"hello\")"
   ]
  }
 ],
 "metadata": {
  "kernelspec": {
   "display_name": "Python 3 (ipykernel)",
   "language": "python",
   "name": "python3"
  },
  "language_info": {
   "codemirror_mode": {
    "name": "ipython",
    "version": 3
   },
   "file_extension": ".py",
   "mimetype": "text/x-python",
   "name": "python",
   "nbconvert_exporter": "python",
   "pygments_lexer": "ipython3",
   "version": "3.13.5"
  }
 },
 "nbformat": 4,
 "nbformat_minor": 5
}
