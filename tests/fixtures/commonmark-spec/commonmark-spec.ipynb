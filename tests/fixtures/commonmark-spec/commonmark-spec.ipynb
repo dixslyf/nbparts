{
 "cells": [
  {
   "cell_type": "raw",
   "id": "45dac1b2-8817-4c3c-934e-5603f58c13c7",
   "metadata": {},
   "source": [
    "Tests are from the CommonMark spec (modifications made to embed into a Jupyter notebook), which is licensed as follows:\n",
    "\n",
    "Copyright (C) 2014-15 John MacFarlane\n",
    "\n",
    "Released under the Creative Commons CC-BY-SA 4.0 license:\n",
    "<http://creativecommons.org/licenses/by-sa/4.0/>."
   ]
  },
  {
   "cell_type": "markdown",
   "id": "4108a615",
   "metadata": {},
   "source": [
    "\tfoo\tbaz\t\tbim\n"
   ]
  },
  {
   "cell_type": "markdown",
   "id": "7249307e",
   "metadata": {},
   "source": [
    "  \tfoo\tbaz\t\tbim\n"
   ]
  },
  {
   "cell_type": "markdown",
   "id": "aa83e714",
   "metadata": {},
   "source": [
    "    a\ta\n",
    "    ὐ\ta\n"
   ]
  },
  {
   "cell_type": "markdown",
   "id": "04ef94d5",
   "metadata": {},
   "source": [
    "  - foo\n",
    "\n",
    "\tbar\n"
   ]
  },
  {
   "cell_type": "markdown",
   "id": "c62da6f0",
   "metadata": {},
   "source": [
    "- foo\n",
    "\n",
    "\t\tbar\n"
   ]
  },
  {
   "cell_type": "markdown",
   "id": "5012b19e",
   "metadata": {},
   "source": [
    ">\t\tfoo\n"
   ]
  },
  {
   "cell_type": "markdown",
   "id": "b8719899",
   "metadata": {},
   "source": [
    "-\t\tfoo\n"
   ]
  },
  {
   "cell_type": "markdown",
   "id": "235d055a",
   "metadata": {},
   "source": [
    "    foo\n",
    "\tbar\n"
   ]
  },
  {
   "cell_type": "markdown",
   "id": "be8e221c",
   "metadata": {},
   "source": [
    " - foo\n",
    "   - bar\n",
    "\t - baz\n"
   ]
  },
  {
   "cell_type": "markdown",
   "id": "fdfe5aa9",
   "metadata": {},
   "source": [
    "#\tFoo\n"
   ]
  },
  {
   "cell_type": "markdown",
   "id": "00623991",
   "metadata": {},
   "source": [
    "*\t*\t*\t\n"
   ]
  },
  {
   "cell_type": "markdown",
   "id": "361a0d83",
   "metadata": {},
   "source": [
    "\\!\\\"\\#\\$\\%\\&\\'\\(\\)\\*\\+\\,\\-\\.\\/\\:\\;\\<\\=\\>\\?\\@\\[\\\\\\]\\^\\_\\`\\{\\|\\}\\~\n"
   ]
  },
  {
   "cell_type": "markdown",
   "id": "0d01ce1b",
   "metadata": {},
   "source": [
    "\\\t\\A\\a\\ \\3\\φ\\«\n"
   ]
  },
  {
   "cell_type": "markdown",
   "id": "d4495a22",
   "metadata": {},
   "source": [
    "\\*not emphasized*\n",
    "\\<br/> not a tag\n",
    "\\[not a link](/foo)\n",
    "\\`not code`\n",
    "1\\. not a list\n",
    "\\* not a list\n",
    "\\# not a heading\n",
    "\\[foo]: /url \"not a reference\"\n",
    "\\&ouml; not a character entity\n"
   ]
  },
  {
   "cell_type": "markdown",
   "id": "8dc06af1",
   "metadata": {},
   "source": [
    "\\\\*emphasis*\n"
   ]
  },
  {
   "cell_type": "markdown",
   "id": "b7bafacd",
   "metadata": {},
   "source": [
    "foo\\\n",
    "bar\n"
   ]
  },
  {
   "cell_type": "markdown",
   "id": "7ca3da19",
   "metadata": {},
   "source": [
    "`` \\[\\` ``\n"
   ]
  },
  {
   "cell_type": "markdown",
   "id": "fe58eb05",
   "metadata": {},
   "source": [
    "    \\[\\]\n"
   ]
  },
  {
   "cell_type": "markdown",
   "id": "e0c73125",
   "metadata": {},
   "source": [
    "~~~\n",
    "\\[\\]\n",
    "~~~\n"
   ]
  },
  {
   "cell_type": "markdown",
   "id": "74876d8b",
   "metadata": {},
   "source": [
    "<https://example.com?find=\\*>\n"
   ]
  },
  {
   "cell_type": "markdown",
   "id": "6613144a",
   "metadata": {},
   "source": [
    "<a href=\"/bar\\/)\">\n"
   ]
  },
  {
   "cell_type": "markdown",
   "id": "c71e5931",
   "metadata": {},
   "source": [
    "[foo](/bar\\* \"ti\\*tle\")\n"
   ]
  },
  {
   "cell_type": "markdown",
   "id": "7dc4e210",
   "metadata": {},
   "source": [
    "[foo]\n",
    "\n",
    "[foo]: /bar\\* \"ti\\*tle\"\n"
   ]
  },
  {
   "cell_type": "markdown",
   "id": "2482ca28",
   "metadata": {},
   "source": [
    "``` foo\\+bar\n",
    "foo\n",
    "```\n"
   ]
  },
  {
   "cell_type": "markdown",
   "id": "ccf3f349",
   "metadata": {},
   "source": [
    "&nbsp; &amp; &copy; &AElig; &Dcaron;\n",
    "&frac34; &HilbertSpace; &DifferentialD;\n",
    "&ClockwiseContourIntegral; &ngE;\n"
   ]
  },
  {
   "cell_type": "markdown",
   "id": "a61ad86e",
   "metadata": {},
   "source": [
    "&#35; &#1234; &#992; &#0;\n"
   ]
  },
  {
   "cell_type": "markdown",
   "id": "abe69a32",
   "metadata": {},
   "source": [
    "&#X22; &#XD06; &#xcab;\n"
   ]
  },
  {
   "cell_type": "markdown",
   "id": "d657c47c",
   "metadata": {},
   "source": [
    "&nbsp &x; &#; &#x;\n",
    "&#87654321;\n",
    "&#abcdef0;\n",
    "&ThisIsNotDefined; &hi?;\n"
   ]
  },
  {
   "cell_type": "markdown",
   "id": "3c3465eb",
   "metadata": {},
   "source": [
    "&copy\n"
   ]
  },
  {
   "cell_type": "markdown",
   "id": "cd8f4b8f",
   "metadata": {},
   "source": [
    "&MadeUpEntity;\n"
   ]
  },
  {
   "cell_type": "markdown",
   "id": "7a2c4cff",
   "metadata": {},
   "source": [
    "<a href=\"&ouml;&ouml;.html\">\n"
   ]
  },
  {
   "cell_type": "markdown",
   "id": "6b2809ee",
   "metadata": {},
   "source": [
    "[foo](/f&ouml;&ouml; \"f&ouml;&ouml;\")\n"
   ]
  },
  {
   "cell_type": "markdown",
   "id": "b83ecab2",
   "metadata": {},
   "source": [
    "[foo]\n",
    "\n",
    "[foo]: /f&ouml;&ouml; \"f&ouml;&ouml;\"\n"
   ]
  },
  {
   "cell_type": "markdown",
   "id": "0e4c3f6c",
   "metadata": {},
   "source": [
    "``` f&ouml;&ouml;\n",
    "foo\n",
    "```\n"
   ]
  },
  {
   "cell_type": "markdown",
   "id": "cadb57bc",
   "metadata": {},
   "source": [
    "`f&ouml;&ouml;`\n"
   ]
  },
  {
   "cell_type": "markdown",
   "id": "7fddff8e",
   "metadata": {},
   "source": [
    "    f&ouml;f&ouml;\n"
   ]
  },
  {
   "cell_type": "markdown",
   "id": "0f0326d0",
   "metadata": {},
   "source": [
    "&#42;foo&#42;\n",
    "*foo*\n"
   ]
  },
  {
   "cell_type": "markdown",
   "id": "10892455",
   "metadata": {},
   "source": [
    "&#42; foo\n",
    "\n",
    "* foo\n"
   ]
  },
  {
   "cell_type": "markdown",
   "id": "f6017409",
   "metadata": {},
   "source": [
    "foo&#10;&#10;bar\n"
   ]
  },
  {
   "cell_type": "markdown",
   "id": "b6b49f2e",
   "metadata": {},
   "source": [
    "&#9;foo\n"
   ]
  },
  {
   "cell_type": "markdown",
   "id": "8cc7a586",
   "metadata": {},
   "source": [
    "[a](url &quot;tit&quot;)\n"
   ]
  },
  {
   "cell_type": "markdown",
   "id": "4db787f8",
   "metadata": {},
   "source": [
    "- `one\n",
    "- two`\n"
   ]
  },
  {
   "cell_type": "markdown",
   "id": "a833714c",
   "metadata": {},
   "source": [
    "***\n",
    "---\n",
    "___\n"
   ]
  },
  {
   "cell_type": "markdown",
   "id": "2717b3a6",
   "metadata": {},
   "source": [
    "+++\n"
   ]
  },
  {
   "cell_type": "markdown",
   "id": "a4b6a7d7",
   "metadata": {},
   "source": [
    "===\n"
   ]
  },
  {
   "cell_type": "markdown",
   "id": "3e4307c8",
   "metadata": {},
   "source": [
    "--\n",
    "**\n",
    "__\n"
   ]
  },
  {
   "cell_type": "markdown",
   "id": "97932489",
   "metadata": {},
   "source": [
    " ***\n",
    "  ***\n",
    "   ***\n"
   ]
  },
  {
   "cell_type": "markdown",
   "id": "25ed6e3b",
   "metadata": {},
   "source": [
    "    ***\n"
   ]
  },
  {
   "cell_type": "markdown",
   "id": "d1d89789",
   "metadata": {},
   "source": [
    "Foo\n",
    "    ***\n"
   ]
  },
  {
   "cell_type": "markdown",
   "id": "26477c68",
   "metadata": {},
   "source": [
    "_____________________________________\n"
   ]
  },
  {
   "cell_type": "markdown",
   "id": "49260a47",
   "metadata": {},
   "source": [
    " - - -\n"
   ]
  },
  {
   "cell_type": "markdown",
   "id": "38eda7ca",
   "metadata": {},
   "source": [
    " **  * ** * ** * **\n"
   ]
  },
  {
   "cell_type": "markdown",
   "id": "db2a1ce5",
   "metadata": {},
   "source": [
    "-     -      -      -\n"
   ]
  },
  {
   "cell_type": "markdown",
   "id": "b103a571",
   "metadata": {},
   "source": [
    "- - - -    \n"
   ]
  },
  {
   "cell_type": "markdown",
   "id": "3035a473",
   "metadata": {},
   "source": [
    "_ _ _ _ a\n",
    "\n",
    "a------\n",
    "\n",
    "---a---\n"
   ]
  },
  {
   "cell_type": "markdown",
   "id": "fd1f4ee4",
   "metadata": {},
   "source": [
    " *-*\n"
   ]
  },
  {
   "cell_type": "markdown",
   "id": "9d916734",
   "metadata": {},
   "source": [
    "- foo\n",
    "***\n",
    "- bar\n"
   ]
  },
  {
   "cell_type": "markdown",
   "id": "4fa8bdbc",
   "metadata": {},
   "source": [
    "Foo\n",
    "***\n",
    "bar\n"
   ]
  },
  {
   "cell_type": "markdown",
   "id": "f02dbe5f",
   "metadata": {},
   "source": [
    "Foo\n",
    "---\n",
    "bar\n"
   ]
  },
  {
   "cell_type": "markdown",
   "id": "59b2ac08",
   "metadata": {},
   "source": [
    "* Foo\n",
    "* * *\n",
    "* Bar\n"
   ]
  },
  {
   "cell_type": "markdown",
   "id": "64bc0bd3",
   "metadata": {},
   "source": [
    "- Foo\n",
    "- * * *\n"
   ]
  },
  {
   "cell_type": "markdown",
   "id": "2dd01789",
   "metadata": {},
   "source": [
    "# foo\n",
    "## foo\n",
    "### foo\n",
    "#### foo\n",
    "##### foo\n",
    "###### foo\n"
   ]
  },
  {
   "cell_type": "markdown",
   "id": "a4f741c9",
   "metadata": {},
   "source": [
    "####### foo\n"
   ]
  },
  {
   "cell_type": "markdown",
   "id": "98de32b0",
   "metadata": {},
   "source": [
    "#5 bolt\n",
    "\n",
    "#hashtag\n"
   ]
  },
  {
   "cell_type": "markdown",
   "id": "1f985b4a",
   "metadata": {},
   "source": [
    "\\## foo\n"
   ]
  },
  {
   "cell_type": "markdown",
   "id": "890bff56",
   "metadata": {},
   "source": [
    "# foo *bar* \\*baz\\*\n"
   ]
  },
  {
   "cell_type": "markdown",
   "id": "e68f5d4e",
   "metadata": {},
   "source": [
    "#                  foo                     \n"
   ]
  },
  {
   "cell_type": "markdown",
   "id": "866302c0",
   "metadata": {},
   "source": [
    " ### foo\n",
    "  ## foo\n",
    "   # foo\n"
   ]
  },
  {
   "cell_type": "markdown",
   "id": "d168e7a1",
   "metadata": {},
   "source": [
    "    # foo\n"
   ]
  },
  {
   "cell_type": "markdown",
   "id": "89c14f99",
   "metadata": {},
   "source": [
    "foo\n",
    "    # bar\n"
   ]
  },
  {
   "cell_type": "markdown",
   "id": "97feca91",
   "metadata": {},
   "source": [
    "## foo ##\n",
    "  ###   bar    ###\n"
   ]
  },
  {
   "cell_type": "markdown",
   "id": "c0a4df05",
   "metadata": {},
   "source": [
    "# foo ##################################\n",
    "##### foo ##\n"
   ]
  },
  {
   "cell_type": "markdown",
   "id": "11bfd86c",
   "metadata": {},
   "source": [
    "### foo ###     \n"
   ]
  },
  {
   "cell_type": "markdown",
   "id": "d10312f1",
   "metadata": {},
   "source": [
    "### foo ### b\n"
   ]
  },
  {
   "cell_type": "markdown",
   "id": "7b4f55f7",
   "metadata": {},
   "source": [
    "# foo#\n"
   ]
  },
  {
   "cell_type": "markdown",
   "id": "f6bc852c",
   "metadata": {},
   "source": [
    "### foo \\###\n",
    "## foo #\\##\n",
    "# foo \\#\n"
   ]
  },
  {
   "cell_type": "markdown",
   "id": "0c5cd751",
   "metadata": {},
   "source": [
    "****\n",
    "## foo\n",
    "****\n"
   ]
  },
  {
   "cell_type": "markdown",
   "id": "b58a8dd3",
   "metadata": {},
   "source": [
    "Foo bar\n",
    "# baz\n",
    "Bar foo\n"
   ]
  },
  {
   "cell_type": "markdown",
   "id": "fdabaac6",
   "metadata": {},
   "source": [
    "## \n",
    "#\n",
    "### ###\n"
   ]
  },
  {
   "cell_type": "markdown",
   "id": "ee55cbfd",
   "metadata": {},
   "source": [
    "Foo *bar*\n",
    "=========\n",
    "\n",
    "Foo *bar*\n",
    "---------\n"
   ]
  },
  {
   "cell_type": "markdown",
   "id": "b01b5e8b",
   "metadata": {},
   "source": [
    "Foo *bar\n",
    "baz*\n",
    "====\n"
   ]
  },
  {
   "cell_type": "markdown",
   "id": "51f53fcf",
   "metadata": {},
   "source": [
    "  Foo *bar\n",
    "baz*\t\n",
    "====\n"
   ]
  },
  {
   "cell_type": "markdown",
   "id": "a1e787ae",
   "metadata": {},
   "source": [
    "Foo\n",
    "-------------------------\n",
    "\n",
    "Foo\n",
    "=\n"
   ]
  },
  {
   "cell_type": "markdown",
   "id": "4240f65e",
   "metadata": {},
   "source": [
    "   Foo\n",
    "---\n",
    "\n",
    "  Foo\n",
    "-----\n",
    "\n",
    "  Foo\n",
    "  ===\n"
   ]
  },
  {
   "cell_type": "markdown",
   "id": "9222ae3f",
   "metadata": {},
   "source": [
    "    Foo\n",
    "    ---\n",
    "\n",
    "    Foo\n",
    "---\n"
   ]
  },
  {
   "cell_type": "markdown",
   "id": "86b8270f",
   "metadata": {},
   "source": [
    "Foo\n",
    "   ----      \n"
   ]
  },
  {
   "cell_type": "markdown",
   "id": "098ebd97",
   "metadata": {},
   "source": [
    "Foo\n",
    "    ---\n"
   ]
  },
  {
   "cell_type": "markdown",
   "id": "523f6f21",
   "metadata": {},
   "source": [
    "Foo\n",
    "= =\n",
    "\n",
    "Foo\n",
    "--- -\n"
   ]
  },
  {
   "cell_type": "markdown",
   "id": "ec74e9d0",
   "metadata": {},
   "source": [
    "Foo  \n",
    "-----\n"
   ]
  },
  {
   "cell_type": "markdown",
   "id": "64804191",
   "metadata": {},
   "source": [
    "Foo\\\n",
    "----\n"
   ]
  },
  {
   "cell_type": "markdown",
   "id": "acc8be96",
   "metadata": {},
   "source": [
    "`Foo\n",
    "----\n",
    "`\n",
    "\n",
    "<a title=\"a lot\n",
    "---\n",
    "of dashes\"/>\n"
   ]
  },
  {
   "cell_type": "markdown",
   "id": "059fb1d1",
   "metadata": {},
   "source": [
    "> Foo\n",
    "---\n"
   ]
  },
  {
   "cell_type": "markdown",
   "id": "5ad61c69",
   "metadata": {},
   "source": [
    "> foo\n",
    "bar\n",
    "===\n"
   ]
  },
  {
   "cell_type": "markdown",
   "id": "4c6bb00d",
   "metadata": {},
   "source": [
    "- Foo\n",
    "---\n"
   ]
  },
  {
   "cell_type": "markdown",
   "id": "7eadf931",
   "metadata": {},
   "source": [
    "Foo\n",
    "Bar\n",
    "---\n"
   ]
  },
  {
   "cell_type": "markdown",
   "id": "fc11a59b",
   "metadata": {},
   "source": [
    "---\n",
    "Foo\n",
    "---\n",
    "Bar\n",
    "---\n",
    "Baz\n"
   ]
  },
  {
   "cell_type": "markdown",
   "id": "c8d3d3f8",
   "metadata": {},
   "source": [
    "\n",
    "====\n"
   ]
  },
  {
   "cell_type": "markdown",
   "id": "d43c307f",
   "metadata": {},
   "source": [
    "---\n",
    "---\n"
   ]
  },
  {
   "cell_type": "markdown",
   "id": "724f6200",
   "metadata": {},
   "source": [
    "- foo\n",
    "-----\n"
   ]
  },
  {
   "cell_type": "markdown",
   "id": "76ce9a3a",
   "metadata": {},
   "source": [
    "    foo\n",
    "---\n"
   ]
  },
  {
   "cell_type": "markdown",
   "id": "73fd01f8",
   "metadata": {},
   "source": [
    "> foo\n",
    "-----\n"
   ]
  },
  {
   "cell_type": "markdown",
   "id": "f1e8494e",
   "metadata": {},
   "source": [
    "\\> foo\n",
    "------\n"
   ]
  },
  {
   "cell_type": "markdown",
   "id": "c18e8aea",
   "metadata": {},
   "source": [
    "Foo\n",
    "\n",
    "bar\n",
    "---\n",
    "baz\n"
   ]
  },
  {
   "cell_type": "markdown",
   "id": "13c9f64b",
   "metadata": {},
   "source": [
    "Foo\n",
    "bar\n",
    "\n",
    "---\n",
    "\n",
    "baz\n"
   ]
  },
  {
   "cell_type": "markdown",
   "id": "0304291e",
   "metadata": {},
   "source": [
    "Foo\n",
    "bar\n",
    "* * *\n",
    "baz\n"
   ]
  },
  {
   "cell_type": "markdown",
   "id": "830a8e10",
   "metadata": {},
   "source": [
    "Foo\n",
    "bar\n",
    "\\---\n",
    "baz\n"
   ]
  },
  {
   "cell_type": "markdown",
   "id": "4e05d73c",
   "metadata": {},
   "source": [
    "    a simple\n",
    "      indented code block\n"
   ]
  },
  {
   "cell_type": "markdown",
   "id": "a3e13c59",
   "metadata": {},
   "source": [
    "  - foo\n",
    "\n",
    "    bar\n"
   ]
  },
  {
   "cell_type": "markdown",
   "id": "30793907",
   "metadata": {},
   "source": [
    "1.  foo\n",
    "\n",
    "    - bar\n"
   ]
  },
  {
   "cell_type": "markdown",
   "id": "bebd5f88",
   "metadata": {},
   "source": [
    "    <a/>\n",
    "    *hi*\n",
    "\n",
    "    - one\n"
   ]
  },
  {
   "cell_type": "markdown",
   "id": "32e138e5",
   "metadata": {},
   "source": [
    "    chunk1\n",
    "\n",
    "    chunk2\n",
    "  \n",
    " \n",
    " \n",
    "    chunk3\n"
   ]
  },
  {
   "cell_type": "markdown",
   "id": "2728fb0c",
   "metadata": {},
   "source": [
    "    chunk1\n",
    "      \n",
    "      chunk2\n"
   ]
  },
  {
   "cell_type": "markdown",
   "id": "35748fa1",
   "metadata": {},
   "source": [
    "Foo\n",
    "    bar\n",
    "\n"
   ]
  },
  {
   "cell_type": "markdown",
   "id": "61efcd07",
   "metadata": {},
   "source": [
    "    foo\n",
    "bar\n"
   ]
  },
  {
   "cell_type": "markdown",
   "id": "d73e7c8c",
   "metadata": {},
   "source": [
    "# Heading\n",
    "    foo\n",
    "Heading\n",
    "------\n",
    "    foo\n",
    "----\n"
   ]
  },
  {
   "cell_type": "markdown",
   "id": "9e05ee37",
   "metadata": {},
   "source": [
    "        foo\n",
    "    bar\n"
   ]
  },
  {
   "cell_type": "markdown",
   "id": "3dadb560",
   "metadata": {},
   "source": [
    "\n",
    "    \n",
    "    foo\n",
    "    \n",
    "\n"
   ]
  },
  {
   "cell_type": "markdown",
   "id": "a5d9f45b",
   "metadata": {},
   "source": [
    "    foo  \n"
   ]
  },
  {
   "cell_type": "markdown",
   "id": "f2e5f928",
   "metadata": {},
   "source": [
    "```\n",
    "<\n",
    " >\n",
    "```\n"
   ]
  },
  {
   "cell_type": "markdown",
   "id": "46e4da79",
   "metadata": {},
   "source": [
    "~~~\n",
    "<\n",
    " >\n",
    "~~~\n"
   ]
  },
  {
   "cell_type": "markdown",
   "id": "72f784df",
   "metadata": {},
   "source": [
    "``\n",
    "foo\n",
    "``\n"
   ]
  },
  {
   "cell_type": "markdown",
   "id": "8dff43fb",
   "metadata": {},
   "source": [
    "```\n",
    "aaa\n",
    "~~~\n",
    "```\n"
   ]
  },
  {
   "cell_type": "markdown",
   "id": "a20707d6",
   "metadata": {},
   "source": [
    "~~~\n",
    "aaa\n",
    "```\n",
    "~~~\n"
   ]
  },
  {
   "cell_type": "markdown",
   "id": "5552aa3f",
   "metadata": {},
   "source": [
    "````\n",
    "aaa\n",
    "```\n",
    "``````\n"
   ]
  },
  {
   "cell_type": "markdown",
   "id": "d56892c7",
   "metadata": {},
   "source": [
    "~~~~\n",
    "aaa\n",
    "~~~\n",
    "~~~~\n"
   ]
  },
  {
   "cell_type": "markdown",
   "id": "5de6f0f9",
   "metadata": {},
   "source": [
    "```\n"
   ]
  },
  {
   "cell_type": "markdown",
   "id": "cfcbbb61",
   "metadata": {},
   "source": [
    "`````\n",
    "\n",
    "```\n",
    "aaa\n"
   ]
  },
  {
   "cell_type": "markdown",
   "id": "3d43da69",
   "metadata": {},
   "source": [
    "> ```\n",
    "> aaa\n",
    "\n",
    "bbb\n"
   ]
  },
  {
   "cell_type": "markdown",
   "id": "491415da",
   "metadata": {},
   "source": [
    "```\n",
    "\n",
    "  \n",
    "```\n"
   ]
  },
  {
   "cell_type": "markdown",
   "id": "d0375bc7",
   "metadata": {},
   "source": [
    "```\n",
    "```\n"
   ]
  },
  {
   "cell_type": "markdown",
   "id": "9fb8fa4f",
   "metadata": {},
   "source": [
    " ```\n",
    " aaa\n",
    "aaa\n",
    "```\n"
   ]
  },
  {
   "cell_type": "markdown",
   "id": "94385696",
   "metadata": {},
   "source": [
    "  ```\n",
    "aaa\n",
    "  aaa\n",
    "aaa\n",
    "  ```\n"
   ]
  },
  {
   "cell_type": "markdown",
   "id": "9cf71bfa",
   "metadata": {},
   "source": [
    "   ```\n",
    "   aaa\n",
    "    aaa\n",
    "  aaa\n",
    "   ```\n"
   ]
  },
  {
   "cell_type": "markdown",
   "id": "d24a1599",
   "metadata": {},
   "source": [
    "    ```\n",
    "    aaa\n",
    "    ```\n"
   ]
  },
  {
   "cell_type": "markdown",
   "id": "ef06b5c3",
   "metadata": {},
   "source": [
    "```\n",
    "aaa\n",
    "  ```\n"
   ]
  },
  {
   "cell_type": "markdown",
   "id": "7ac52108",
   "metadata": {},
   "source": [
    "   ```\n",
    "aaa\n",
    "  ```\n"
   ]
  },
  {
   "cell_type": "markdown",
   "id": "3631e147",
   "metadata": {},
   "source": [
    "```\n",
    "aaa\n",
    "    ```\n"
   ]
  },
  {
   "cell_type": "markdown",
   "id": "74acbce1",
   "metadata": {},
   "source": [
    "``` ```\n",
    "aaa\n"
   ]
  },
  {
   "cell_type": "markdown",
   "id": "44716c54",
   "metadata": {},
   "source": [
    "~~~~~~\n",
    "aaa\n",
    "~~~ ~~\n"
   ]
  },
  {
   "cell_type": "markdown",
   "id": "c17dae52",
   "metadata": {},
   "source": [
    "foo\n",
    "```\n",
    "bar\n",
    "```\n",
    "baz\n"
   ]
  },
  {
   "cell_type": "markdown",
   "id": "e0678333",
   "metadata": {},
   "source": [
    "foo\n",
    "---\n",
    "~~~\n",
    "bar\n",
    "~~~\n",
    "# baz\n"
   ]
  },
  {
   "cell_type": "markdown",
   "id": "f79d54e1",
   "metadata": {},
   "source": [
    "```ruby\n",
    "def foo(x)\n",
    "  return 3\n",
    "end\n",
    "```\n"
   ]
  },
  {
   "cell_type": "markdown",
   "id": "dd807e9f",
   "metadata": {},
   "source": [
    "~~~~    ruby startline=3 $%@#$\n",
    "def foo(x)\n",
    "  return 3\n",
    "end\n",
    "~~~~~~~\n"
   ]
  },
  {
   "cell_type": "markdown",
   "id": "c8777b04",
   "metadata": {},
   "source": [
    "````;\n",
    "````\n"
   ]
  },
  {
   "cell_type": "markdown",
   "id": "92b92eed",
   "metadata": {},
   "source": [
    "``` aa ```\n",
    "foo\n"
   ]
  },
  {
   "cell_type": "markdown",
   "id": "bce29cfc",
   "metadata": {},
   "source": [
    "~~~ aa ``` ~~~\n",
    "foo\n",
    "~~~\n"
   ]
  },
  {
   "cell_type": "markdown",
   "id": "6c303e1b",
   "metadata": {},
   "source": [
    "```\n",
    "``` aaa\n",
    "```\n"
   ]
  },
  {
   "cell_type": "markdown",
   "id": "12bdbf05",
   "metadata": {},
   "source": [
    "<table><tr><td>\n",
    "<pre>\n",
    "**Hello**,\n",
    "\n",
    "_world_.\n",
    "</pre>\n",
    "</td></tr></table>\n"
   ]
  },
  {
   "cell_type": "markdown",
   "id": "5d6c7b9c",
   "metadata": {},
   "source": [
    "<table>\n",
    "  <tr>\n",
    "    <td>\n",
    "           hi\n",
    "    </td>\n",
    "  </tr>\n",
    "</table>\n",
    "\n",
    "okay.\n"
   ]
  },
  {
   "cell_type": "markdown",
   "id": "ac44da6b",
   "metadata": {},
   "source": [
    " <div>\n",
    "  *hello*\n",
    "         <foo><a>\n"
   ]
  },
  {
   "cell_type": "markdown",
   "id": "9ab32e7e",
   "metadata": {},
   "source": [
    "</div>\n",
    "*foo*\n"
   ]
  },
  {
   "cell_type": "markdown",
   "id": "ba780888",
   "metadata": {},
   "source": [
    "<DIV CLASS=\"foo\">\n",
    "\n",
    "*Markdown*\n",
    "\n",
    "</DIV>\n"
   ]
  },
  {
   "cell_type": "markdown",
   "id": "2bc11033",
   "metadata": {},
   "source": [
    "<div id=\"foo\"\n",
    "  class=\"bar\">\n",
    "</div>\n"
   ]
  },
  {
   "cell_type": "markdown",
   "id": "73039edd",
   "metadata": {},
   "source": [
    "<div id=\"foo\" class=\"bar\n",
    "  baz\">\n",
    "</div>\n"
   ]
  },
  {
   "cell_type": "markdown",
   "id": "ece4e115",
   "metadata": {},
   "source": [
    "<div>\n",
    "*foo*\n",
    "\n",
    "*bar*\n"
   ]
  },
  {
   "cell_type": "markdown",
   "id": "b51a7484",
   "metadata": {},
   "source": [
    "<div id=\"foo\"\n",
    "*hi*\n"
   ]
  },
  {
   "cell_type": "markdown",
   "id": "7ddb060a",
   "metadata": {},
   "source": [
    "<div class\n",
    "foo\n"
   ]
  },
  {
   "cell_type": "markdown",
   "id": "a5897ba0",
   "metadata": {},
   "source": [
    "<div *???-&&&-<---\n",
    "*foo*\n"
   ]
  },
  {
   "cell_type": "markdown",
   "id": "c9da6426",
   "metadata": {},
   "source": [
    "<div><a href=\"bar\">*foo*</a></div>\n"
   ]
  },
  {
   "cell_type": "markdown",
   "id": "2c289f91",
   "metadata": {},
   "source": [
    "<table><tr><td>\n",
    "foo\n",
    "</td></tr></table>\n"
   ]
  },
  {
   "cell_type": "markdown",
   "id": "9bffe4ae",
   "metadata": {},
   "source": [
    "<div></div>\n",
    "``` c\n",
    "int x = 33;\n",
    "```\n"
   ]
  },
  {
   "cell_type": "markdown",
   "id": "cf464dad",
   "metadata": {},
   "source": [
    "<div\n",
    "> not quoted text\n"
   ]
  },
  {
   "cell_type": "markdown",
   "id": "280307ce",
   "metadata": {},
   "source": [
    "<a href=\"foo\">\n",
    "*bar*\n",
    "</a>\n"
   ]
  },
  {
   "cell_type": "markdown",
   "id": "2855e349",
   "metadata": {},
   "source": [
    "<Warning>\n",
    "*bar*\n",
    "</Warning>\n"
   ]
  },
  {
   "cell_type": "markdown",
   "id": "84709c0b",
   "metadata": {},
   "source": [
    "<i class=\"foo\">\n",
    "*bar*\n",
    "</i>\n"
   ]
  },
  {
   "cell_type": "markdown",
   "id": "6267f3b7",
   "metadata": {},
   "source": [
    "</ins>\n",
    "*bar*\n"
   ]
  },
  {
   "cell_type": "markdown",
   "id": "a01c9494",
   "metadata": {},
   "source": [
    "<del>\n",
    "*foo*\n",
    "</del>\n"
   ]
  },
  {
   "cell_type": "markdown",
   "id": "d0429c1d",
   "metadata": {},
   "source": [
    "<del>\n",
    "\n",
    "*foo*\n",
    "\n",
    "</del>\n"
   ]
  },
  {
   "cell_type": "markdown",
   "id": "c05b11bb",
   "metadata": {},
   "source": [
    "<del>*foo*</del>\n"
   ]
  },
  {
   "cell_type": "markdown",
   "id": "9328a080",
   "metadata": {},
   "source": [
    "<del\n",
    "class=\"foo\">\n",
    "*foo*\n",
    "</del>\n"
   ]
  },
  {
   "cell_type": "markdown",
   "id": "5ab58f2b",
   "metadata": {},
   "source": [
    "<pre language=\"haskell\"><code>\n",
    "import Text.HTML.TagSoup\n",
    "\n",
    "main :: IO ()\n",
    "main = print $ parseTags tags\n",
    "</code></pre>\n",
    "okay\n"
   ]
  },
  {
   "cell_type": "markdown",
   "id": "ab6bf4eb",
   "metadata": {},
   "source": [
    "<script type=\"text/javascript\">\n",
    "// JavaScript example\n",
    "\n",
    "document.getElementById(\"demo\").innerHTML = \"Hello JavaScript!\";\n",
    "</script>\n",
    "okay\n"
   ]
  },
  {
   "cell_type": "markdown",
   "id": "c511a5ee",
   "metadata": {},
   "source": [
    "<textarea>\n",
    "\n",
    "*foo*\n",
    "\n",
    "_bar_\n",
    "\n",
    "</textarea>\n"
   ]
  },
  {
   "cell_type": "markdown",
   "id": "c0f64dce",
   "metadata": {},
   "source": [
    "<style\n",
    "  type=\"text/css\">\n",
    "h1 {color:red;}\n",
    "\n",
    "p {color:blue;}\n",
    "</style>\n",
    "okay\n"
   ]
  },
  {
   "cell_type": "markdown",
   "id": "8c8953cb",
   "metadata": {},
   "source": [
    "<style\n",
    "  type=\"text/css\">\n",
    "\n",
    "foo\n"
   ]
  },
  {
   "cell_type": "markdown",
   "id": "09f33374",
   "metadata": {},
   "source": [
    "> <div>\n",
    "> foo\n",
    "\n",
    "bar\n"
   ]
  },
  {
   "cell_type": "markdown",
   "id": "c0ab2338",
   "metadata": {},
   "source": [
    "- <div>\n",
    "- foo\n"
   ]
  },
  {
   "cell_type": "markdown",
   "id": "460dec2b",
   "metadata": {},
   "source": [
    "<style>p{color:red;}</style>\n",
    "*foo*\n"
   ]
  },
  {
   "cell_type": "markdown",
   "id": "f5562192",
   "metadata": {},
   "source": [
    "<!-- foo -->*bar*\n",
    "*baz*\n"
   ]
  },
  {
   "cell_type": "markdown",
   "id": "1dacf098",
   "metadata": {},
   "source": [
    "<script>\n",
    "foo\n",
    "</script>1. *bar*\n"
   ]
  },
  {
   "cell_type": "markdown",
   "id": "f6369651",
   "metadata": {},
   "source": [
    "<!-- Foo\n",
    "\n",
    "bar\n",
    "   baz -->\n",
    "okay\n"
   ]
  },
  {
   "cell_type": "markdown",
   "id": "e3d7ff1f",
   "metadata": {},
   "source": [
    "<?php\n",
    "\n",
    "  echo '>';\n",
    "\n",
    "?>\n",
    "okay\n"
   ]
  },
  {
   "cell_type": "markdown",
   "id": "67903a1b",
   "metadata": {},
   "source": [
    "<!DOCTYPE html>\n"
   ]
  },
  {
   "cell_type": "markdown",
   "id": "e9d0567b",
   "metadata": {},
   "source": [
    "<![CDATA[\n",
    "function matchwo(a,b)\n",
    "{\n",
    "  if (a < b && a < 0) then {\n",
    "    return 1;\n",
    "\n",
    "  } else {\n",
    "\n",
    "    return 0;\n",
    "  }\n",
    "}\n",
    "]]>\n",
    "okay\n"
   ]
  },
  {
   "cell_type": "markdown",
   "id": "b9564a60",
   "metadata": {},
   "source": [
    "  <!-- foo -->\n",
    "\n",
    "    <!-- foo -->\n"
   ]
  },
  {
   "cell_type": "markdown",
   "id": "e67af694",
   "metadata": {},
   "source": [
    "  <div>\n",
    "\n",
    "    <div>\n"
   ]
  },
  {
   "cell_type": "markdown",
   "id": "af98fb61",
   "metadata": {},
   "source": [
    "Foo\n",
    "<div>\n",
    "bar\n",
    "</div>\n"
   ]
  },
  {
   "cell_type": "markdown",
   "id": "ed94f984",
   "metadata": {},
   "source": [
    "<div>\n",
    "bar\n",
    "</div>\n",
    "*foo*\n"
   ]
  },
  {
   "cell_type": "markdown",
   "id": "cde252e8",
   "metadata": {},
   "source": [
    "Foo\n",
    "<a href=\"bar\">\n",
    "baz\n"
   ]
  },
  {
   "cell_type": "markdown",
   "id": "24facd57",
   "metadata": {},
   "source": [
    "<div>\n",
    "\n",
    "*Emphasized* text.\n",
    "\n",
    "</div>\n"
   ]
  },
  {
   "cell_type": "markdown",
   "id": "94cfe4fd",
   "metadata": {},
   "source": [
    "<div>\n",
    "*Emphasized* text.\n",
    "</div>\n"
   ]
  },
  {
   "cell_type": "markdown",
   "id": "a5add86c",
   "metadata": {},
   "source": [
    "<table>\n",
    "\n",
    "<tr>\n",
    "\n",
    "<td>\n",
    "Hi\n",
    "</td>\n",
    "\n",
    "</tr>\n",
    "\n",
    "</table>\n"
   ]
  },
  {
   "cell_type": "markdown",
   "id": "6c45d020",
   "metadata": {},
   "source": [
    "<table>\n",
    "\n",
    "  <tr>\n",
    "\n",
    "    <td>\n",
    "      Hi\n",
    "    </td>\n",
    "\n",
    "  </tr>\n",
    "\n",
    "</table>\n"
   ]
  },
  {
   "cell_type": "markdown",
   "id": "bea35d3b",
   "metadata": {},
   "source": [
    "[foo]: /url \"title\"\n",
    "\n",
    "[foo]\n"
   ]
  },
  {
   "cell_type": "markdown",
   "id": "7bc33e02",
   "metadata": {},
   "source": [
    "   [foo]: \n",
    "      /url  \n",
    "           'the title'  \n",
    "\n",
    "[foo]\n"
   ]
  },
  {
   "cell_type": "markdown",
   "id": "646f4846",
   "metadata": {},
   "source": [
    "[Foo*bar\\]]:my_(url) 'title (with parens)'\n",
    "\n",
    "[Foo*bar\\]]\n"
   ]
  },
  {
   "cell_type": "markdown",
   "id": "446645b9",
   "metadata": {},
   "source": [
    "[Foo bar]:\n",
    "<my url>\n",
    "'title'\n",
    "\n",
    "[Foo bar]\n"
   ]
  },
  {
   "cell_type": "markdown",
   "id": "64c2b0e2",
   "metadata": {},
   "source": [
    "[foo]: /url '\n",
    "title\n",
    "line1\n",
    "line2\n",
    "'\n",
    "\n",
    "[foo]\n"
   ]
  },
  {
   "cell_type": "markdown",
   "id": "a2ba1d3c",
   "metadata": {},
   "source": [
    "[foo]: /url 'title\n",
    "\n",
    "with blank line'\n",
    "\n",
    "[foo]\n"
   ]
  },
  {
   "cell_type": "markdown",
   "id": "9b7a20cf",
   "metadata": {},
   "source": [
    "[foo]:\n",
    "/url\n",
    "\n",
    "[foo]\n"
   ]
  },
  {
   "cell_type": "markdown",
   "id": "90360cb5",
   "metadata": {},
   "source": [
    "[foo]:\n",
    "\n",
    "[foo]\n"
   ]
  },
  {
   "cell_type": "markdown",
   "id": "077e707d",
   "metadata": {},
   "source": [
    "[foo]: <>\n",
    "\n",
    "[foo]\n"
   ]
  },
  {
   "cell_type": "markdown",
   "id": "02980dbc",
   "metadata": {},
   "source": [
    "[foo]: <bar>(baz)\n",
    "\n",
    "[foo]\n"
   ]
  },
  {
   "cell_type": "markdown",
   "id": "c945d0ba",
   "metadata": {},
   "source": [
    "[foo]: /url\\bar\\*baz \"foo\\\"bar\\baz\"\n",
    "\n",
    "[foo]\n"
   ]
  },
  {
   "cell_type": "markdown",
   "id": "ad844942",
   "metadata": {},
   "source": [
    "[foo]\n",
    "\n",
    "[foo]: url\n"
   ]
  },
  {
   "cell_type": "markdown",
   "id": "0942eee8",
   "metadata": {},
   "source": [
    "[foo]\n",
    "\n",
    "[foo]: first\n",
    "[foo]: second\n"
   ]
  },
  {
   "cell_type": "markdown",
   "id": "d755d43f",
   "metadata": {},
   "source": [
    "[FOO]: /url\n",
    "\n",
    "[Foo]\n"
   ]
  },
  {
   "cell_type": "markdown",
   "id": "822468a8",
   "metadata": {},
   "source": [
    "[ΑΓΩ]: /φου\n",
    "\n",
    "[αγω]\n"
   ]
  },
  {
   "cell_type": "markdown",
   "id": "4a91feaf",
   "metadata": {},
   "source": [
    "[foo]: /url\n"
   ]
  },
  {
   "cell_type": "markdown",
   "id": "68bf9e72",
   "metadata": {},
   "source": [
    "[\n",
    "foo\n",
    "]: /url\n",
    "bar\n"
   ]
  },
  {
   "cell_type": "markdown",
   "id": "be6e47de",
   "metadata": {},
   "source": [
    "[foo]: /url \"title\" ok\n"
   ]
  },
  {
   "cell_type": "markdown",
   "id": "d3b2c936",
   "metadata": {},
   "source": [
    "[foo]: /url\n",
    "\"title\" ok\n"
   ]
  },
  {
   "cell_type": "markdown",
   "id": "3ae7ce33",
   "metadata": {},
   "source": [
    "    [foo]: /url \"title\"\n",
    "\n",
    "[foo]\n"
   ]
  },
  {
   "cell_type": "markdown",
   "id": "3dae18a0",
   "metadata": {},
   "source": [
    "```\n",
    "[foo]: /url\n",
    "```\n",
    "\n",
    "[foo]\n"
   ]
  },
  {
   "cell_type": "markdown",
   "id": "8e3aac70",
   "metadata": {},
   "source": [
    "Foo\n",
    "[bar]: /baz\n",
    "\n",
    "[bar]\n"
   ]
  },
  {
   "cell_type": "markdown",
   "id": "cb1c0472",
   "metadata": {},
   "source": [
    "# [Foo]\n",
    "[foo]: /url\n",
    "> bar\n"
   ]
  },
  {
   "cell_type": "markdown",
   "id": "137e3981",
   "metadata": {},
   "source": [
    "[foo]: /url\n",
    "bar\n",
    "===\n",
    "[foo]\n"
   ]
  },
  {
   "cell_type": "markdown",
   "id": "0044e4e6",
   "metadata": {},
   "source": [
    "[foo]: /url\n",
    "===\n",
    "[foo]\n"
   ]
  },
  {
   "cell_type": "markdown",
   "id": "9abc3b86",
   "metadata": {},
   "source": [
    "[foo]: /foo-url \"foo\"\n",
    "[bar]: /bar-url\n",
    "  \"bar\"\n",
    "[baz]: /baz-url\n",
    "\n",
    "[foo],\n",
    "[bar],\n",
    "[baz]\n"
   ]
  },
  {
   "cell_type": "markdown",
   "id": "34b657de",
   "metadata": {},
   "source": [
    "[foo]\n",
    "\n",
    "> [foo]: /url\n"
   ]
  },
  {
   "cell_type": "markdown",
   "id": "4df15596",
   "metadata": {},
   "source": [
    "aaa\n",
    "\n",
    "bbb\n"
   ]
  },
  {
   "cell_type": "markdown",
   "id": "3616a2e6",
   "metadata": {},
   "source": [
    "aaa\n",
    "bbb\n",
    "\n",
    "ccc\n",
    "ddd\n"
   ]
  },
  {
   "cell_type": "markdown",
   "id": "92fbd351",
   "metadata": {},
   "source": [
    "aaa\n",
    "\n",
    "\n",
    "bbb\n"
   ]
  },
  {
   "cell_type": "markdown",
   "id": "e8547936",
   "metadata": {},
   "source": [
    "  aaa\n",
    " bbb\n"
   ]
  },
  {
   "cell_type": "markdown",
   "id": "0c5ad3f4",
   "metadata": {},
   "source": [
    "aaa\n",
    "             bbb\n",
    "                                       ccc\n"
   ]
  },
  {
   "cell_type": "markdown",
   "id": "f9c12536",
   "metadata": {},
   "source": [
    "   aaa\n",
    "bbb\n"
   ]
  },
  {
   "cell_type": "markdown",
   "id": "f2e602a8",
   "metadata": {},
   "source": [
    "    aaa\n",
    "bbb\n"
   ]
  },
  {
   "cell_type": "markdown",
   "id": "01f6da1a",
   "metadata": {},
   "source": [
    "aaa     \n",
    "bbb     \n"
   ]
  },
  {
   "cell_type": "markdown",
   "id": "a72b11b4",
   "metadata": {},
   "source": [
    "  \n",
    "\n",
    "aaa\n",
    "  \n",
    "\n",
    "# aaa\n",
    "\n",
    "  \n"
   ]
  },
  {
   "cell_type": "markdown",
   "id": "9303f734",
   "metadata": {},
   "source": [
    "> # Foo\n",
    "> bar\n",
    "> baz\n"
   ]
  },
  {
   "cell_type": "markdown",
   "id": "40fbb4b2",
   "metadata": {},
   "source": [
    "># Foo\n",
    ">bar\n",
    "> baz\n"
   ]
  },
  {
   "cell_type": "markdown",
   "id": "196bd364",
   "metadata": {},
   "source": [
    "   > # Foo\n",
    "   > bar\n",
    " > baz\n"
   ]
  },
  {
   "cell_type": "markdown",
   "id": "2c05a0ff",
   "metadata": {},
   "source": [
    "    > # Foo\n",
    "    > bar\n",
    "    > baz\n"
   ]
  },
  {
   "cell_type": "markdown",
   "id": "34ea1fcf",
   "metadata": {},
   "source": [
    "> # Foo\n",
    "> bar\n",
    "baz\n"
   ]
  },
  {
   "cell_type": "markdown",
   "id": "3174f423",
   "metadata": {},
   "source": [
    "> bar\n",
    "baz\n",
    "> foo\n"
   ]
  },
  {
   "cell_type": "markdown",
   "id": "39bd3d8a",
   "metadata": {},
   "source": [
    "> foo\n",
    "---\n"
   ]
  },
  {
   "cell_type": "markdown",
   "id": "414ac0fb",
   "metadata": {},
   "source": [
    "> - foo\n",
    "- bar\n"
   ]
  },
  {
   "cell_type": "markdown",
   "id": "e44e591b",
   "metadata": {},
   "source": [
    ">     foo\n",
    "    bar\n"
   ]
  },
  {
   "cell_type": "markdown",
   "id": "50e84041",
   "metadata": {},
   "source": [
    "> ```\n",
    "foo\n",
    "```\n"
   ]
  },
  {
   "cell_type": "markdown",
   "id": "dc1ffbf8",
   "metadata": {},
   "source": [
    "> foo\n",
    "    - bar\n"
   ]
  },
  {
   "cell_type": "markdown",
   "id": "aa3ca6db",
   "metadata": {},
   "source": [
    ">\n"
   ]
  },
  {
   "cell_type": "markdown",
   "id": "12d0d98f",
   "metadata": {},
   "source": [
    ">\n",
    ">  \n",
    "> \n"
   ]
  },
  {
   "cell_type": "markdown",
   "id": "c9a5ee01",
   "metadata": {},
   "source": [
    ">\n",
    "> foo\n",
    ">  \n"
   ]
  },
  {
   "cell_type": "markdown",
   "id": "eadf8566",
   "metadata": {},
   "source": [
    "> foo\n",
    "\n",
    "> bar\n"
   ]
  },
  {
   "cell_type": "markdown",
   "id": "bc8a35cf",
   "metadata": {},
   "source": [
    "> foo\n",
    "> bar\n"
   ]
  },
  {
   "cell_type": "markdown",
   "id": "0bf1f2a8",
   "metadata": {},
   "source": [
    "> foo\n",
    ">\n",
    "> bar\n"
   ]
  },
  {
   "cell_type": "markdown",
   "id": "7a04b927",
   "metadata": {},
   "source": [
    "foo\n",
    "> bar\n"
   ]
  },
  {
   "cell_type": "markdown",
   "id": "e9f004c9",
   "metadata": {},
   "source": [
    "> aaa\n",
    "***\n",
    "> bbb\n"
   ]
  },
  {
   "cell_type": "markdown",
   "id": "381c4d36",
   "metadata": {},
   "source": [
    "> bar\n",
    "baz\n"
   ]
  },
  {
   "cell_type": "markdown",
   "id": "2ca58cf8",
   "metadata": {},
   "source": [
    "> bar\n",
    "\n",
    "baz\n"
   ]
  },
  {
   "cell_type": "markdown",
   "id": "f9f8b668",
   "metadata": {},
   "source": [
    "> bar\n",
    ">\n",
    "baz\n"
   ]
  },
  {
   "cell_type": "markdown",
   "id": "f2407f5d",
   "metadata": {},
   "source": [
    "> > > foo\n",
    "bar\n"
   ]
  },
  {
   "cell_type": "markdown",
   "id": "f5bd5c13",
   "metadata": {},
   "source": [
    ">>> foo\n",
    "> bar\n",
    ">>baz\n"
   ]
  },
  {
   "cell_type": "markdown",
   "id": "9f73bda5",
   "metadata": {},
   "source": [
    ">     code\n",
    "\n",
    ">    not code\n"
   ]
  },
  {
   "cell_type": "markdown",
   "id": "1e844427",
   "metadata": {},
   "source": [
    "A paragraph\n",
    "with two lines.\n",
    "\n",
    "    indented code\n",
    "\n",
    "> A block quote.\n"
   ]
  },
  {
   "cell_type": "markdown",
   "id": "e663ab0e",
   "metadata": {},
   "source": [
    "1.  A paragraph\n",
    "    with two lines.\n",
    "\n",
    "        indented code\n",
    "\n",
    "    > A block quote.\n"
   ]
  },
  {
   "cell_type": "markdown",
   "id": "c6db21e9",
   "metadata": {},
   "source": [
    "- one\n",
    "\n",
    " two\n"
   ]
  },
  {
   "cell_type": "markdown",
   "id": "f7a355ca",
   "metadata": {},
   "source": [
    "- one\n",
    "\n",
    "  two\n"
   ]
  },
  {
   "cell_type": "markdown",
   "id": "89b2ba79",
   "metadata": {},
   "source": [
    " -    one\n",
    "\n",
    "     two\n"
   ]
  },
  {
   "cell_type": "markdown",
   "id": "97fe6248",
   "metadata": {},
   "source": [
    " -    one\n",
    "\n",
    "      two\n"
   ]
  },
  {
   "cell_type": "markdown",
   "id": "d8ac0ed1",
   "metadata": {},
   "source": [
    "   > > 1.  one\n",
    ">>\n",
    ">>     two\n"
   ]
  },
  {
   "cell_type": "markdown",
   "id": "7ddd650c",
   "metadata": {},
   "source": [
    ">>- one\n",
    ">>\n",
    "  >  > two\n"
   ]
  },
  {
   "cell_type": "markdown",
   "id": "6708593b",
   "metadata": {},
   "source": [
    "-one\n",
    "\n",
    "2.two\n"
   ]
  },
  {
   "cell_type": "markdown",
   "id": "994f5cae",
   "metadata": {},
   "source": [
    "- foo\n",
    "\n",
    "\n",
    "  bar\n"
   ]
  },
  {
   "cell_type": "markdown",
   "id": "952ce033",
   "metadata": {},
   "source": [
    "1.  foo\n",
    "\n",
    "    ```\n",
    "    bar\n",
    "    ```\n",
    "\n",
    "    baz\n",
    "\n",
    "    > bam\n"
   ]
  },
  {
   "cell_type": "markdown",
   "id": "e2af3df9",
   "metadata": {},
   "source": [
    "- Foo\n",
    "\n",
    "      bar\n",
    "\n",
    "\n",
    "      baz\n"
   ]
  },
  {
   "cell_type": "markdown",
   "id": "88d738b3",
   "metadata": {},
   "source": [
    "123456789. ok\n"
   ]
  },
  {
   "cell_type": "markdown",
   "id": "e8229fac",
   "metadata": {},
   "source": [
    "1234567890. not ok\n"
   ]
  },
  {
   "cell_type": "markdown",
   "id": "201c0ba4",
   "metadata": {},
   "source": [
    "0. ok\n"
   ]
  },
  {
   "cell_type": "markdown",
   "id": "61dcaa64",
   "metadata": {},
   "source": [
    "003. ok\n"
   ]
  },
  {
   "cell_type": "markdown",
   "id": "c2106319",
   "metadata": {},
   "source": [
    "-1. not ok\n"
   ]
  },
  {
   "cell_type": "markdown",
   "id": "717a6f48",
   "metadata": {},
   "source": [
    "- foo\n",
    "\n",
    "      bar\n"
   ]
  },
  {
   "cell_type": "markdown",
   "id": "604f40d4",
   "metadata": {},
   "source": [
    "  10.  foo\n",
    "\n",
    "           bar\n"
   ]
  },
  {
   "cell_type": "markdown",
   "id": "63e5dd2a",
   "metadata": {},
   "source": [
    "    indented code\n",
    "\n",
    "paragraph\n",
    "\n",
    "    more code\n"
   ]
  },
  {
   "cell_type": "markdown",
   "id": "7cdd5d08",
   "metadata": {},
   "source": [
    "1.     indented code\n",
    "\n",
    "   paragraph\n",
    "\n",
    "       more code\n"
   ]
  },
  {
   "cell_type": "markdown",
   "id": "ce6f4661",
   "metadata": {},
   "source": [
    "1.      indented code\n",
    "\n",
    "   paragraph\n",
    "\n",
    "       more code\n"
   ]
  },
  {
   "cell_type": "markdown",
   "id": "77d059ce",
   "metadata": {},
   "source": [
    "   foo\n",
    "\n",
    "bar\n"
   ]
  },
  {
   "cell_type": "markdown",
   "id": "1e7b7b84",
   "metadata": {},
   "source": [
    "-    foo\n",
    "\n",
    "  bar\n"
   ]
  },
  {
   "cell_type": "markdown",
   "id": "437e10a2",
   "metadata": {},
   "source": [
    "-  foo\n",
    "\n",
    "   bar\n"
   ]
  },
  {
   "cell_type": "markdown",
   "id": "fb681cb2",
   "metadata": {},
   "source": [
    "-\n",
    "  foo\n",
    "-\n",
    "  ```\n",
    "  bar\n",
    "  ```\n",
    "-\n",
    "      baz\n"
   ]
  },
  {
   "cell_type": "markdown",
   "id": "4525ff61",
   "metadata": {},
   "source": [
    "-   \n",
    "  foo\n"
   ]
  },
  {
   "cell_type": "markdown",
   "id": "5ecd7b3b",
   "metadata": {},
   "source": [
    "-\n",
    "\n",
    "  foo\n"
   ]
  },
  {
   "cell_type": "markdown",
   "id": "313a3c91",
   "metadata": {},
   "source": [
    "- foo\n",
    "-\n",
    "- bar\n"
   ]
  },
  {
   "cell_type": "markdown",
   "id": "b1601e06",
   "metadata": {},
   "source": [
    "- foo\n",
    "-   \n",
    "- bar\n"
   ]
  },
  {
   "cell_type": "markdown",
   "id": "75bd0b5b",
   "metadata": {},
   "source": [
    "1. foo\n",
    "2.\n",
    "3. bar\n"
   ]
  },
  {
   "cell_type": "markdown",
   "id": "6386406a",
   "metadata": {},
   "source": [
    "*\n"
   ]
  },
  {
   "cell_type": "markdown",
   "id": "fe9a76e2",
   "metadata": {},
   "source": [
    "foo\n",
    "*\n",
    "\n",
    "foo\n",
    "1.\n"
   ]
  },
  {
   "cell_type": "markdown",
   "id": "873bb24c",
   "metadata": {},
   "source": [
    " 1.  A paragraph\n",
    "     with two lines.\n",
    "\n",
    "         indented code\n",
    "\n",
    "     > A block quote.\n"
   ]
  },
  {
   "cell_type": "markdown",
   "id": "c6fc3cbd",
   "metadata": {},
   "source": [
    "  1.  A paragraph\n",
    "      with two lines.\n",
    "\n",
    "          indented code\n",
    "\n",
    "      > A block quote.\n"
   ]
  },
  {
   "cell_type": "markdown",
   "id": "e1fadf0a",
   "metadata": {},
   "source": [
    "   1.  A paragraph\n",
    "       with two lines.\n",
    "\n",
    "           indented code\n",
    "\n",
    "       > A block quote.\n"
   ]
  },
  {
   "cell_type": "markdown",
   "id": "f0ba69ca",
   "metadata": {},
   "source": [
    "    1.  A paragraph\n",
    "        with two lines.\n",
    "\n",
    "            indented code\n",
    "\n",
    "        > A block quote.\n"
   ]
  },
  {
   "cell_type": "markdown",
   "id": "025424c1",
   "metadata": {},
   "source": [
    "  1.  A paragraph\n",
    "with two lines.\n",
    "\n",
    "          indented code\n",
    "\n",
    "      > A block quote.\n"
   ]
  },
  {
   "cell_type": "markdown",
   "id": "cc4f05d2",
   "metadata": {},
   "source": [
    "  1.  A paragraph\n",
    "    with two lines.\n"
   ]
  },
  {
   "cell_type": "markdown",
   "id": "a1e711bf",
   "metadata": {},
   "source": [
    "> 1. > Blockquote\n",
    "continued here.\n"
   ]
  },
  {
   "cell_type": "markdown",
   "id": "c229d80d",
   "metadata": {},
   "source": [
    "> 1. > Blockquote\n",
    "> continued here.\n"
   ]
  },
  {
   "cell_type": "markdown",
   "id": "5639c41a",
   "metadata": {},
   "source": [
    "- foo\n",
    "  - bar\n",
    "    - baz\n",
    "      - boo\n"
   ]
  },
  {
   "cell_type": "markdown",
   "id": "4d53342b",
   "metadata": {},
   "source": [
    "- foo\n",
    " - bar\n",
    "  - baz\n",
    "   - boo\n"
   ]
  },
  {
   "cell_type": "markdown",
   "id": "85c558d9",
   "metadata": {},
   "source": [
    "10) foo\n",
    "    - bar\n"
   ]
  },
  {
   "cell_type": "markdown",
   "id": "feaf63f9",
   "metadata": {},
   "source": [
    "10) foo\n",
    "   - bar\n"
   ]
  },
  {
   "cell_type": "markdown",
   "id": "c7996450",
   "metadata": {},
   "source": [
    "- - foo\n"
   ]
  },
  {
   "cell_type": "markdown",
   "id": "4633a43f",
   "metadata": {},
   "source": [
    "1. - 2. foo\n"
   ]
  },
  {
   "cell_type": "markdown",
   "id": "7a197ad9",
   "metadata": {},
   "source": [
    "- # Foo\n",
    "- Bar\n",
    "  ---\n",
    "  baz\n"
   ]
  },
  {
   "cell_type": "markdown",
   "id": "5154b7c8",
   "metadata": {},
   "source": [
    "- foo\n",
    "- bar\n",
    "+ baz\n"
   ]
  },
  {
   "cell_type": "markdown",
   "id": "89f25d75",
   "metadata": {},
   "source": [
    "1. foo\n",
    "2. bar\n",
    "3) baz\n"
   ]
  },
  {
   "cell_type": "markdown",
   "id": "18413166",
   "metadata": {},
   "source": [
    "Foo\n",
    "- bar\n",
    "- baz\n"
   ]
  },
  {
   "cell_type": "markdown",
   "id": "f3fb5fec",
   "metadata": {},
   "source": [
    "The number of windows in my house is\n",
    "14.  The number of doors is 6.\n"
   ]
  },
  {
   "cell_type": "markdown",
   "id": "a8806fcc",
   "metadata": {},
   "source": [
    "The number of windows in my house is\n",
    "1.  The number of doors is 6.\n"
   ]
  },
  {
   "cell_type": "markdown",
   "id": "56acb904",
   "metadata": {},
   "source": [
    "- foo\n",
    "\n",
    "- bar\n",
    "\n",
    "\n",
    "- baz\n"
   ]
  },
  {
   "cell_type": "markdown",
   "id": "dd18d6b6",
   "metadata": {},
   "source": [
    "- foo\n",
    "  - bar\n",
    "    - baz\n",
    "\n",
    "\n",
    "      bim\n"
   ]
  },
  {
   "cell_type": "markdown",
   "id": "e3546080",
   "metadata": {},
   "source": [
    "- foo\n",
    "- bar\n",
    "\n",
    "<!-- -->\n",
    "\n",
    "- baz\n",
    "- bim\n"
   ]
  },
  {
   "cell_type": "markdown",
   "id": "2efe9f90",
   "metadata": {},
   "source": [
    "-   foo\n",
    "\n",
    "    notcode\n",
    "\n",
    "-   foo\n",
    "\n",
    "<!-- -->\n",
    "\n",
    "    code\n"
   ]
  },
  {
   "cell_type": "markdown",
   "id": "d367d490",
   "metadata": {},
   "source": [
    "- a\n",
    " - b\n",
    "  - c\n",
    "   - d\n",
    "  - e\n",
    " - f\n",
    "- g\n"
   ]
  },
  {
   "cell_type": "markdown",
   "id": "e71c9876",
   "metadata": {},
   "source": [
    "1. a\n",
    "\n",
    "  2. b\n",
    "\n",
    "   3. c\n"
   ]
  },
  {
   "cell_type": "markdown",
   "id": "f1026f33",
   "metadata": {},
   "source": [
    "- a\n",
    " - b\n",
    "  - c\n",
    "   - d\n",
    "    - e\n"
   ]
  },
  {
   "cell_type": "markdown",
   "id": "f008cbb6",
   "metadata": {},
   "source": [
    "1. a\n",
    "\n",
    "  2. b\n",
    "\n",
    "    3. c\n"
   ]
  },
  {
   "cell_type": "markdown",
   "id": "a5ac96d4",
   "metadata": {},
   "source": [
    "- a\n",
    "- b\n",
    "\n",
    "- c\n"
   ]
  },
  {
   "cell_type": "markdown",
   "id": "5ee24a14",
   "metadata": {},
   "source": [
    "* a\n",
    "*\n",
    "\n",
    "* c\n"
   ]
  },
  {
   "cell_type": "markdown",
   "id": "2518a7c6",
   "metadata": {},
   "source": [
    "- a\n",
    "- b\n",
    "\n",
    "  c\n",
    "- d\n"
   ]
  },
  {
   "cell_type": "markdown",
   "id": "d1d60f2e",
   "metadata": {},
   "source": [
    "- a\n",
    "- b\n",
    "\n",
    "  [ref]: /url\n",
    "- d\n"
   ]
  },
  {
   "cell_type": "markdown",
   "id": "cbb25176",
   "metadata": {},
   "source": [
    "- a\n",
    "- ```\n",
    "  b\n",
    "\n",
    "\n",
    "  ```\n",
    "- c\n"
   ]
  },
  {
   "cell_type": "markdown",
   "id": "60b33c9a",
   "metadata": {},
   "source": [
    "- a\n",
    "  - b\n",
    "\n",
    "    c\n",
    "- d\n"
   ]
  },
  {
   "cell_type": "markdown",
   "id": "a5e7152e",
   "metadata": {},
   "source": [
    "* a\n",
    "  > b\n",
    "  >\n",
    "* c\n"
   ]
  },
  {
   "cell_type": "markdown",
   "id": "b644b4ea",
   "metadata": {},
   "source": [
    "- a\n",
    "  > b\n",
    "  ```\n",
    "  c\n",
    "  ```\n",
    "- d\n"
   ]
  },
  {
   "cell_type": "markdown",
   "id": "e723df43",
   "metadata": {},
   "source": [
    "- a\n"
   ]
  },
  {
   "cell_type": "markdown",
   "id": "6a3a5bc7",
   "metadata": {},
   "source": [
    "- a\n",
    "  - b\n"
   ]
  },
  {
   "cell_type": "markdown",
   "id": "dff52f6f",
   "metadata": {},
   "source": [
    "1. ```\n",
    "   foo\n",
    "   ```\n",
    "\n",
    "   bar\n"
   ]
  },
  {
   "cell_type": "markdown",
   "id": "96e343ca",
   "metadata": {},
   "source": [
    "* foo\n",
    "  * bar\n",
    "\n",
    "  baz\n"
   ]
  },
  {
   "cell_type": "markdown",
   "id": "26a30043",
   "metadata": {},
   "source": [
    "- a\n",
    "  - b\n",
    "  - c\n",
    "\n",
    "- d\n",
    "  - e\n",
    "  - f\n"
   ]
  },
  {
   "cell_type": "markdown",
   "id": "a5f7f276",
   "metadata": {},
   "source": [
    "`hi`lo`\n"
   ]
  },
  {
   "cell_type": "markdown",
   "id": "96a7d4a8",
   "metadata": {},
   "source": [
    "`foo`\n"
   ]
  },
  {
   "cell_type": "markdown",
   "id": "bfdfe8bd",
   "metadata": {},
   "source": [
    "`` foo ` bar ``\n"
   ]
  },
  {
   "cell_type": "markdown",
   "id": "dfa4c1c8",
   "metadata": {},
   "source": [
    "` `` `\n"
   ]
  },
  {
   "cell_type": "markdown",
   "id": "032e4c4e",
   "metadata": {},
   "source": [
    "`  ``  `\n"
   ]
  },
  {
   "cell_type": "markdown",
   "id": "861e27c5",
   "metadata": {},
   "source": [
    "` a`\n"
   ]
  },
  {
   "cell_type": "markdown",
   "id": "52689739",
   "metadata": {},
   "source": [
    "` b `\n"
   ]
  },
  {
   "cell_type": "markdown",
   "id": "13b4a835",
   "metadata": {},
   "source": [
    "` `\n",
    "`  `\n"
   ]
  },
  {
   "cell_type": "markdown",
   "id": "474b6e2f",
   "metadata": {},
   "source": [
    "``\n",
    "foo\n",
    "bar  \n",
    "baz\n",
    "``\n"
   ]
  },
  {
   "cell_type": "markdown",
   "id": "87c7990b",
   "metadata": {},
   "source": [
    "``\n",
    "foo \n",
    "``\n"
   ]
  },
  {
   "cell_type": "markdown",
   "id": "d0a79c5c",
   "metadata": {},
   "source": [
    "`foo   bar \n",
    "baz`\n"
   ]
  },
  {
   "cell_type": "markdown",
   "id": "b26f529f",
   "metadata": {},
   "source": [
    "`foo\\`bar`\n"
   ]
  },
  {
   "cell_type": "markdown",
   "id": "f82fcedc",
   "metadata": {},
   "source": [
    "``foo`bar``\n"
   ]
  },
  {
   "cell_type": "markdown",
   "id": "4a75d8d7",
   "metadata": {},
   "source": [
    "` foo `` bar `\n"
   ]
  },
  {
   "cell_type": "markdown",
   "id": "cc162b12",
   "metadata": {},
   "source": [
    "*foo`*`\n"
   ]
  },
  {
   "cell_type": "markdown",
   "id": "c1c7403b",
   "metadata": {},
   "source": [
    "[not a `link](/foo`)\n"
   ]
  },
  {
   "cell_type": "markdown",
   "id": "69c4917b",
   "metadata": {},
   "source": [
    "`<a href=\"`\">`\n"
   ]
  },
  {
   "cell_type": "markdown",
   "id": "55d7f436",
   "metadata": {},
   "source": [
    "<a href=\"`\">`\n"
   ]
  },
  {
   "cell_type": "markdown",
   "id": "65e82319",
   "metadata": {},
   "source": [
    "`<https://foo.bar.`baz>`\n"
   ]
  },
  {
   "cell_type": "markdown",
   "id": "762d5434",
   "metadata": {},
   "source": [
    "<https://foo.bar.`baz>`\n"
   ]
  },
  {
   "cell_type": "markdown",
   "id": "de6d8ac3",
   "metadata": {},
   "source": [
    "```foo``\n"
   ]
  },
  {
   "cell_type": "markdown",
   "id": "9e0782a8",
   "metadata": {},
   "source": [
    "`foo\n"
   ]
  },
  {
   "cell_type": "markdown",
   "id": "4f3c2a6a",
   "metadata": {},
   "source": [
    "`foo``bar``\n"
   ]
  },
  {
   "cell_type": "markdown",
   "id": "4277d860",
   "metadata": {},
   "source": [
    "*foo bar*\n"
   ]
  },
  {
   "cell_type": "markdown",
   "id": "1cdb60db",
   "metadata": {},
   "source": [
    "a * foo bar*\n"
   ]
  },
  {
   "cell_type": "markdown",
   "id": "742f343b",
   "metadata": {},
   "source": [
    "a*\"foo\"*\n"
   ]
  },
  {
   "cell_type": "markdown",
   "id": "b0609bde",
   "metadata": {},
   "source": [
    "* a *\n"
   ]
  },
  {
   "cell_type": "markdown",
   "id": "31b8a41b",
   "metadata": {},
   "source": [
    "*$*alpha.\n",
    "\n",
    "*£*bravo.\n",
    "\n",
    "*€*charlie.\n",
    "\n",
    "*𞋿*delta.\n"
   ]
  },
  {
   "cell_type": "markdown",
   "id": "a9f1bf59",
   "metadata": {},
   "source": [
    "foo*bar*\n"
   ]
  },
  {
   "cell_type": "markdown",
   "id": "ef484a32",
   "metadata": {},
   "source": [
    "5*6*78\n"
   ]
  },
  {
   "cell_type": "markdown",
   "id": "e9128c1e",
   "metadata": {},
   "source": [
    "_foo bar_\n"
   ]
  },
  {
   "cell_type": "markdown",
   "id": "0ad61b9f",
   "metadata": {},
   "source": [
    "_ foo bar_\n"
   ]
  },
  {
   "cell_type": "markdown",
   "id": "90f6b093",
   "metadata": {},
   "source": [
    "a_\"foo\"_\n"
   ]
  },
  {
   "cell_type": "markdown",
   "id": "1fa08339",
   "metadata": {},
   "source": [
    "foo_bar_\n"
   ]
  },
  {
   "cell_type": "markdown",
   "id": "f318854b",
   "metadata": {},
   "source": [
    "5_6_78\n"
   ]
  },
  {
   "cell_type": "markdown",
   "id": "13f82a12",
   "metadata": {},
   "source": [
    "пристаням_стремятся_\n"
   ]
  },
  {
   "cell_type": "markdown",
   "id": "a981c7c5",
   "metadata": {},
   "source": [
    "aa_\"bb\"_cc\n"
   ]
  },
  {
   "cell_type": "markdown",
   "id": "c63a54ad",
   "metadata": {},
   "source": [
    "foo-_(bar)_\n"
   ]
  },
  {
   "cell_type": "markdown",
   "id": "15e17737",
   "metadata": {},
   "source": [
    "_foo*\n"
   ]
  },
  {
   "cell_type": "markdown",
   "id": "017811d1",
   "metadata": {},
   "source": [
    "*foo bar *\n"
   ]
  },
  {
   "cell_type": "markdown",
   "id": "8db69d35",
   "metadata": {},
   "source": [
    "*foo bar\n",
    "*\n"
   ]
  },
  {
   "cell_type": "markdown",
   "id": "c82d11d6",
   "metadata": {},
   "source": [
    "*(*foo)\n"
   ]
  },
  {
   "cell_type": "markdown",
   "id": "58460f4b",
   "metadata": {},
   "source": [
    "*(*foo*)*\n"
   ]
  },
  {
   "cell_type": "markdown",
   "id": "8d8acedc",
   "metadata": {},
   "source": [
    "*foo*bar\n"
   ]
  },
  {
   "cell_type": "markdown",
   "id": "324d3d68",
   "metadata": {},
   "source": [
    "_foo bar _\n"
   ]
  },
  {
   "cell_type": "markdown",
   "id": "6b9a7386",
   "metadata": {},
   "source": [
    "_(_foo)\n"
   ]
  },
  {
   "cell_type": "markdown",
   "id": "70691bce",
   "metadata": {},
   "source": [
    "_(_foo_)_\n"
   ]
  },
  {
   "cell_type": "markdown",
   "id": "2d0ddb64",
   "metadata": {},
   "source": [
    "_foo_bar\n"
   ]
  },
  {
   "cell_type": "markdown",
   "id": "851d2e93",
   "metadata": {},
   "source": [
    "_пристаням_стремятся\n"
   ]
  },
  {
   "cell_type": "markdown",
   "id": "ecd86099",
   "metadata": {},
   "source": [
    "_foo_bar_baz_\n"
   ]
  },
  {
   "cell_type": "markdown",
   "id": "5d61a5c7",
   "metadata": {},
   "source": [
    "_(bar)_.\n"
   ]
  },
  {
   "cell_type": "markdown",
   "id": "f4c6b475",
   "metadata": {},
   "source": [
    "**foo bar**\n"
   ]
  },
  {
   "cell_type": "markdown",
   "id": "5fa188a0",
   "metadata": {},
   "source": [
    "** foo bar**\n"
   ]
  },
  {
   "cell_type": "markdown",
   "id": "c8847248",
   "metadata": {},
   "source": [
    "a**\"foo\"**\n"
   ]
  },
  {
   "cell_type": "markdown",
   "id": "8bd4902f",
   "metadata": {},
   "source": [
    "foo**bar**\n"
   ]
  },
  {
   "cell_type": "markdown",
   "id": "61742de0",
   "metadata": {},
   "source": [
    "__foo bar__\n"
   ]
  },
  {
   "cell_type": "markdown",
   "id": "320daedf",
   "metadata": {},
   "source": [
    "__ foo bar__\n"
   ]
  },
  {
   "cell_type": "markdown",
   "id": "2d588d86",
   "metadata": {},
   "source": [
    "__\n",
    "foo bar__\n"
   ]
  },
  {
   "cell_type": "markdown",
   "id": "d705fa83",
   "metadata": {},
   "source": [
    "a__\"foo\"__\n"
   ]
  },
  {
   "cell_type": "markdown",
   "id": "bdd5faf8",
   "metadata": {},
   "source": [
    "foo__bar__\n"
   ]
  },
  {
   "cell_type": "markdown",
   "id": "7f40e9bf",
   "metadata": {},
   "source": [
    "5__6__78\n"
   ]
  },
  {
   "cell_type": "markdown",
   "id": "00c4227a",
   "metadata": {},
   "source": [
    "пристаням__стремятся__\n"
   ]
  },
  {
   "cell_type": "markdown",
   "id": "d80e3ac0",
   "metadata": {},
   "source": [
    "__foo, __bar__, baz__\n"
   ]
  },
  {
   "cell_type": "markdown",
   "id": "2a835db1",
   "metadata": {},
   "source": [
    "foo-__(bar)__\n"
   ]
  },
  {
   "cell_type": "markdown",
   "id": "5f66a0e3",
   "metadata": {},
   "source": [
    "**foo bar **\n"
   ]
  },
  {
   "cell_type": "markdown",
   "id": "c4e2c440",
   "metadata": {},
   "source": [
    "**(**foo)\n"
   ]
  },
  {
   "cell_type": "markdown",
   "id": "82e9e338",
   "metadata": {},
   "source": [
    "*(**foo**)*\n"
   ]
  },
  {
   "cell_type": "markdown",
   "id": "4b74bb21",
   "metadata": {},
   "source": [
    "**Gomphocarpus (*Gomphocarpus physocarpus*, syn.\n",
    "*Asclepias physocarpa*)**\n"
   ]
  },
  {
   "cell_type": "markdown",
   "id": "e0dda340",
   "metadata": {},
   "source": [
    "**foo \"*bar*\" foo**\n"
   ]
  },
  {
   "cell_type": "markdown",
   "id": "537f3ddc",
   "metadata": {},
   "source": [
    "**foo**bar\n"
   ]
  },
  {
   "cell_type": "markdown",
   "id": "50ba546a",
   "metadata": {},
   "source": [
    "__foo bar __\n"
   ]
  },
  {
   "cell_type": "markdown",
   "id": "7e4adc34",
   "metadata": {},
   "source": [
    "__(__foo)\n"
   ]
  },
  {
   "cell_type": "markdown",
   "id": "0416e613",
   "metadata": {},
   "source": [
    "_(__foo__)_\n"
   ]
  },
  {
   "cell_type": "markdown",
   "id": "87912956",
   "metadata": {},
   "source": [
    "__foo__bar\n"
   ]
  },
  {
   "cell_type": "markdown",
   "id": "0c43ee83",
   "metadata": {},
   "source": [
    "__пристаням__стремятся\n"
   ]
  },
  {
   "cell_type": "markdown",
   "id": "5d391d55",
   "metadata": {},
   "source": [
    "__foo__bar__baz__\n"
   ]
  },
  {
   "cell_type": "markdown",
   "id": "4df08d9d",
   "metadata": {},
   "source": [
    "__(bar)__.\n"
   ]
  },
  {
   "cell_type": "markdown",
   "id": "4f3fba26",
   "metadata": {},
   "source": [
    "*foo [bar](/url)*\n"
   ]
  },
  {
   "cell_type": "markdown",
   "id": "f3b48a04",
   "metadata": {},
   "source": [
    "*foo\n",
    "bar*\n"
   ]
  },
  {
   "cell_type": "markdown",
   "id": "5e64f792",
   "metadata": {},
   "source": [
    "_foo __bar__ baz_\n"
   ]
  },
  {
   "cell_type": "markdown",
   "id": "4810553e",
   "metadata": {},
   "source": [
    "_foo _bar_ baz_\n"
   ]
  },
  {
   "cell_type": "markdown",
   "id": "d3e21b00",
   "metadata": {},
   "source": [
    "__foo_ bar_\n"
   ]
  },
  {
   "cell_type": "markdown",
   "id": "899d7624",
   "metadata": {},
   "source": [
    "*foo *bar**\n"
   ]
  },
  {
   "cell_type": "markdown",
   "id": "3736919c",
   "metadata": {},
   "source": [
    "*foo **bar** baz*\n"
   ]
  },
  {
   "cell_type": "markdown",
   "id": "4afc8fc7",
   "metadata": {},
   "source": [
    "*foo**bar**baz*\n"
   ]
  },
  {
   "cell_type": "markdown",
   "id": "38541b9f",
   "metadata": {},
   "source": [
    "*foo**bar*\n"
   ]
  },
  {
   "cell_type": "markdown",
   "id": "d2ace0a1",
   "metadata": {},
   "source": [
    "***foo** bar*\n"
   ]
  },
  {
   "cell_type": "markdown",
   "id": "eb324798",
   "metadata": {},
   "source": [
    "*foo **bar***\n"
   ]
  },
  {
   "cell_type": "markdown",
   "id": "b99b392f",
   "metadata": {},
   "source": [
    "*foo**bar***\n"
   ]
  },
  {
   "cell_type": "markdown",
   "id": "5ec49bd3",
   "metadata": {},
   "source": [
    "foo***bar***baz\n"
   ]
  },
  {
   "cell_type": "markdown",
   "id": "4506b642",
   "metadata": {},
   "source": [
    "foo******bar*********baz\n"
   ]
  },
  {
   "cell_type": "markdown",
   "id": "6a71e974",
   "metadata": {},
   "source": [
    "*foo **bar *baz* bim** bop*\n"
   ]
  },
  {
   "cell_type": "markdown",
   "id": "753b1542",
   "metadata": {},
   "source": [
    "*foo [*bar*](/url)*\n"
   ]
  },
  {
   "cell_type": "markdown",
   "id": "43d5b96e",
   "metadata": {},
   "source": [
    "** is not an empty emphasis\n"
   ]
  },
  {
   "cell_type": "markdown",
   "id": "c638cc95",
   "metadata": {},
   "source": [
    "**** is not an empty strong emphasis\n"
   ]
  },
  {
   "cell_type": "markdown",
   "id": "3d293eb1",
   "metadata": {},
   "source": [
    "**foo [bar](/url)**\n"
   ]
  },
  {
   "cell_type": "markdown",
   "id": "3222991e",
   "metadata": {},
   "source": [
    "**foo\n",
    "bar**\n"
   ]
  },
  {
   "cell_type": "markdown",
   "id": "f17b5723",
   "metadata": {},
   "source": [
    "__foo _bar_ baz__\n"
   ]
  },
  {
   "cell_type": "markdown",
   "id": "22d3396e",
   "metadata": {},
   "source": [
    "__foo __bar__ baz__\n"
   ]
  },
  {
   "cell_type": "markdown",
   "id": "13020351",
   "metadata": {},
   "source": [
    "____foo__ bar__\n"
   ]
  },
  {
   "cell_type": "markdown",
   "id": "2d5d9ee1",
   "metadata": {},
   "source": [
    "**foo **bar****\n"
   ]
  },
  {
   "cell_type": "markdown",
   "id": "268faaa8",
   "metadata": {},
   "source": [
    "**foo *bar* baz**\n"
   ]
  },
  {
   "cell_type": "markdown",
   "id": "c46dada2",
   "metadata": {},
   "source": [
    "**foo*bar*baz**\n"
   ]
  },
  {
   "cell_type": "markdown",
   "id": "6967fab3",
   "metadata": {},
   "source": [
    "***foo* bar**\n"
   ]
  },
  {
   "cell_type": "markdown",
   "id": "495b7504",
   "metadata": {},
   "source": [
    "**foo *bar***\n"
   ]
  },
  {
   "cell_type": "markdown",
   "id": "7378bb4a",
   "metadata": {},
   "source": [
    "**foo *bar **baz**\n",
    "bim* bop**\n"
   ]
  },
  {
   "cell_type": "markdown",
   "id": "3c47608b",
   "metadata": {},
   "source": [
    "**foo [*bar*](/url)**\n"
   ]
  },
  {
   "cell_type": "markdown",
   "id": "1ce7923e",
   "metadata": {},
   "source": [
    "__ is not an empty emphasis\n"
   ]
  },
  {
   "cell_type": "markdown",
   "id": "d51f153a",
   "metadata": {},
   "source": [
    "____ is not an empty strong emphasis\n"
   ]
  },
  {
   "cell_type": "markdown",
   "id": "ce90aaff",
   "metadata": {},
   "source": [
    "foo ***\n"
   ]
  },
  {
   "cell_type": "markdown",
   "id": "0eb65d47",
   "metadata": {},
   "source": [
    "foo *\\**\n"
   ]
  },
  {
   "cell_type": "markdown",
   "id": "59984bb6",
   "metadata": {},
   "source": [
    "foo *_*\n"
   ]
  },
  {
   "cell_type": "markdown",
   "id": "fcead484",
   "metadata": {},
   "source": [
    "foo *****\n"
   ]
  },
  {
   "cell_type": "markdown",
   "id": "38c7ec2c",
   "metadata": {},
   "source": [
    "foo **\\***\n"
   ]
  },
  {
   "cell_type": "markdown",
   "id": "667fb04f",
   "metadata": {},
   "source": [
    "foo **_**\n"
   ]
  },
  {
   "cell_type": "markdown",
   "id": "765fc8bf",
   "metadata": {},
   "source": [
    "**foo*\n"
   ]
  },
  {
   "cell_type": "markdown",
   "id": "ea1cb039",
   "metadata": {},
   "source": [
    "*foo**\n"
   ]
  },
  {
   "cell_type": "markdown",
   "id": "b5c95703",
   "metadata": {},
   "source": [
    "***foo**\n"
   ]
  },
  {
   "cell_type": "markdown",
   "id": "fa5d5176",
   "metadata": {},
   "source": [
    "****foo*\n"
   ]
  },
  {
   "cell_type": "markdown",
   "id": "621caf8b",
   "metadata": {},
   "source": [
    "**foo***\n"
   ]
  },
  {
   "cell_type": "markdown",
   "id": "08869a5c",
   "metadata": {},
   "source": [
    "*foo****\n"
   ]
  },
  {
   "cell_type": "markdown",
   "id": "0ee1d0d6",
   "metadata": {},
   "source": [
    "foo ___\n"
   ]
  },
  {
   "cell_type": "markdown",
   "id": "ea7ea353",
   "metadata": {},
   "source": [
    "foo _\\__\n"
   ]
  },
  {
   "cell_type": "markdown",
   "id": "f3cbfead",
   "metadata": {},
   "source": [
    "foo _*_\n"
   ]
  },
  {
   "cell_type": "markdown",
   "id": "8830fb90",
   "metadata": {},
   "source": [
    "foo _____\n"
   ]
  },
  {
   "cell_type": "markdown",
   "id": "e6fe63b5",
   "metadata": {},
   "source": [
    "foo __\\___\n"
   ]
  },
  {
   "cell_type": "markdown",
   "id": "e8a4e27b",
   "metadata": {},
   "source": [
    "foo __*__\n"
   ]
  },
  {
   "cell_type": "markdown",
   "id": "2cf85f6d",
   "metadata": {},
   "source": [
    "__foo_\n"
   ]
  },
  {
   "cell_type": "markdown",
   "id": "db3e8729",
   "metadata": {},
   "source": [
    "_foo__\n"
   ]
  },
  {
   "cell_type": "markdown",
   "id": "23586b0a",
   "metadata": {},
   "source": [
    "___foo__\n"
   ]
  },
  {
   "cell_type": "markdown",
   "id": "5b359e47",
   "metadata": {},
   "source": [
    "____foo_\n"
   ]
  },
  {
   "cell_type": "markdown",
   "id": "43097520",
   "metadata": {},
   "source": [
    "__foo___\n"
   ]
  },
  {
   "cell_type": "markdown",
   "id": "3c45c19f",
   "metadata": {},
   "source": [
    "_foo____\n"
   ]
  },
  {
   "cell_type": "markdown",
   "id": "886911b0",
   "metadata": {},
   "source": [
    "**foo**\n"
   ]
  },
  {
   "cell_type": "markdown",
   "id": "cd537e3e",
   "metadata": {},
   "source": [
    "*_foo_*\n"
   ]
  },
  {
   "cell_type": "markdown",
   "id": "1a125d57",
   "metadata": {},
   "source": [
    "__foo__\n"
   ]
  },
  {
   "cell_type": "markdown",
   "id": "e0d8c471",
   "metadata": {},
   "source": [
    "_*foo*_\n"
   ]
  },
  {
   "cell_type": "markdown",
   "id": "499b49c9",
   "metadata": {},
   "source": [
    "****foo****\n"
   ]
  },
  {
   "cell_type": "markdown",
   "id": "67181474",
   "metadata": {},
   "source": [
    "____foo____\n"
   ]
  },
  {
   "cell_type": "markdown",
   "id": "6a0ef807",
   "metadata": {},
   "source": [
    "******foo******\n"
   ]
  },
  {
   "cell_type": "markdown",
   "id": "7df646f8",
   "metadata": {},
   "source": [
    "***foo***\n"
   ]
  },
  {
   "cell_type": "markdown",
   "id": "9415af19",
   "metadata": {},
   "source": [
    "_____foo_____\n"
   ]
  },
  {
   "cell_type": "markdown",
   "id": "fdefb82f",
   "metadata": {},
   "source": [
    "*foo _bar* baz_\n"
   ]
  },
  {
   "cell_type": "markdown",
   "id": "bffeffd5",
   "metadata": {},
   "source": [
    "*foo __bar *baz bim__ bam*\n"
   ]
  },
  {
   "cell_type": "markdown",
   "id": "a0b35ad9",
   "metadata": {},
   "source": [
    "**foo **bar baz**\n"
   ]
  },
  {
   "cell_type": "markdown",
   "id": "42829de9",
   "metadata": {},
   "source": [
    "*foo *bar baz*\n"
   ]
  },
  {
   "cell_type": "markdown",
   "id": "48ec675a",
   "metadata": {},
   "source": [
    "*[bar*](/url)\n"
   ]
  },
  {
   "cell_type": "markdown",
   "id": "6e6815de",
   "metadata": {},
   "source": [
    "_foo [bar_](/url)\n"
   ]
  },
  {
   "cell_type": "markdown",
   "id": "47e51c2a",
   "metadata": {},
   "source": [
    "*<img src=\"foo\" title=\"*\"/>\n"
   ]
  },
  {
   "cell_type": "markdown",
   "id": "fbf97a35",
   "metadata": {},
   "source": [
    "**<a href=\"**\">\n"
   ]
  },
  {
   "cell_type": "markdown",
   "id": "1a7054e4",
   "metadata": {},
   "source": [
    "__<a href=\"__\">\n"
   ]
  },
  {
   "cell_type": "markdown",
   "id": "49af58e7",
   "metadata": {},
   "source": [
    "*a `*`*\n"
   ]
  },
  {
   "cell_type": "markdown",
   "id": "a81bef1a",
   "metadata": {},
   "source": [
    "_a `_`_\n"
   ]
  },
  {
   "cell_type": "markdown",
   "id": "1fa5ee65",
   "metadata": {},
   "source": [
    "**a<https://foo.bar/?q=**>\n"
   ]
  },
  {
   "cell_type": "markdown",
   "id": "eab1b8f0",
   "metadata": {},
   "source": [
    "__a<https://foo.bar/?q=__>\n"
   ]
  },
  {
   "cell_type": "markdown",
   "id": "fb8d0ba0",
   "metadata": {},
   "source": [
    "[link](/uri \"title\")\n"
   ]
  },
  {
   "cell_type": "markdown",
   "id": "e0e204d6",
   "metadata": {},
   "source": [
    "[link](/uri)\n"
   ]
  },
  {
   "cell_type": "markdown",
   "id": "403936ed",
   "metadata": {},
   "source": [
    "[](./target.md)\n"
   ]
  },
  {
   "cell_type": "markdown",
   "id": "a28c91b8",
   "metadata": {},
   "source": [
    "[link]()\n"
   ]
  },
  {
   "cell_type": "markdown",
   "id": "d082d968",
   "metadata": {},
   "source": [
    "[link](<>)\n"
   ]
  },
  {
   "cell_type": "markdown",
   "id": "b7c2337f",
   "metadata": {},
   "source": [
    "[]()\n"
   ]
  },
  {
   "cell_type": "markdown",
   "id": "f4c1fd24",
   "metadata": {},
   "source": [
    "[link](/my uri)\n"
   ]
  },
  {
   "cell_type": "markdown",
   "id": "a0215ce2",
   "metadata": {},
   "source": [
    "[link](</my uri>)\n"
   ]
  },
  {
   "cell_type": "markdown",
   "id": "3f98a143",
   "metadata": {},
   "source": [
    "[link](foo\n",
    "bar)\n"
   ]
  },
  {
   "cell_type": "markdown",
   "id": "b00f8015",
   "metadata": {},
   "source": [
    "[link](<foo\n",
    "bar>)\n"
   ]
  },
  {
   "cell_type": "markdown",
   "id": "5673f625",
   "metadata": {},
   "source": [
    "[a](<b)c>)\n"
   ]
  },
  {
   "cell_type": "markdown",
   "id": "c6d6ba42",
   "metadata": {},
   "source": [
    "[link](<foo\\>)\n"
   ]
  },
  {
   "cell_type": "markdown",
   "id": "2d1f01d4",
   "metadata": {},
   "source": [
    "[a](<b)c\n",
    "[a](<b)c>\n",
    "[a](<b>c)\n"
   ]
  },
  {
   "cell_type": "markdown",
   "id": "b06226bd",
   "metadata": {},
   "source": [
    "[link](\\(foo\\))\n"
   ]
  },
  {
   "cell_type": "markdown",
   "id": "4479f8ee",
   "metadata": {},
   "source": [
    "[link](foo(and(bar)))\n"
   ]
  },
  {
   "cell_type": "markdown",
   "id": "ab498707",
   "metadata": {},
   "source": [
    "[link](foo(and(bar))\n"
   ]
  },
  {
   "cell_type": "markdown",
   "id": "7c59f9b8",
   "metadata": {},
   "source": [
    "[link](foo\\(and\\(bar\\))\n"
   ]
  },
  {
   "cell_type": "markdown",
   "id": "1bacf005",
   "metadata": {},
   "source": [
    "[link](<foo(and(bar)>)\n"
   ]
  },
  {
   "cell_type": "markdown",
   "id": "a5d8bf4a",
   "metadata": {},
   "source": [
    "[link](foo\\)\\:)\n"
   ]
  },
  {
   "cell_type": "markdown",
   "id": "0747eb73",
   "metadata": {},
   "source": [
    "[link](#fragment)\n",
    "\n",
    "[link](https://example.com#fragment)\n",
    "\n",
    "[link](https://example.com?foo=3#frag)\n"
   ]
  },
  {
   "cell_type": "markdown",
   "id": "8b8b340e",
   "metadata": {},
   "source": [
    "[link](foo\\bar)\n"
   ]
  },
  {
   "cell_type": "markdown",
   "id": "9a782278",
   "metadata": {},
   "source": [
    "[link](foo%20b&auml;)\n"
   ]
  },
  {
   "cell_type": "markdown",
   "id": "35131049",
   "metadata": {},
   "source": [
    "[link](\"title\")\n"
   ]
  },
  {
   "cell_type": "markdown",
   "id": "4d477c0e",
   "metadata": {},
   "source": [
    "[link](/url \"title\")\n",
    "[link](/url 'title')\n",
    "[link](/url (title))\n"
   ]
  },
  {
   "cell_type": "markdown",
   "id": "853c6052",
   "metadata": {},
   "source": [
    "[link](/url \"title \\\"&quot;\")\n"
   ]
  },
  {
   "cell_type": "markdown",
   "id": "6db33a7b",
   "metadata": {},
   "source": [
    "[link](/url \"title\")\n"
   ]
  },
  {
   "cell_type": "markdown",
   "id": "a6ccc90d",
   "metadata": {},
   "source": [
    "[link](/url \"title \"and\" title\")\n"
   ]
  },
  {
   "cell_type": "markdown",
   "id": "7cad703d",
   "metadata": {},
   "source": [
    "[link](/url 'title \"and\" title')\n"
   ]
  },
  {
   "cell_type": "markdown",
   "id": "3d36ff04",
   "metadata": {},
   "source": [
    "[link](   /uri\n",
    "  \"title\"  )\n"
   ]
  },
  {
   "cell_type": "markdown",
   "id": "cd53eadb",
   "metadata": {},
   "source": [
    "[link] (/uri)\n"
   ]
  },
  {
   "cell_type": "markdown",
   "id": "17171741",
   "metadata": {},
   "source": [
    "[link [foo [bar]]](/uri)\n"
   ]
  },
  {
   "cell_type": "markdown",
   "id": "e1853252",
   "metadata": {},
   "source": [
    "[link] bar](/uri)\n"
   ]
  },
  {
   "cell_type": "markdown",
   "id": "af35e190",
   "metadata": {},
   "source": [
    "[link [bar](/uri)\n"
   ]
  },
  {
   "cell_type": "markdown",
   "id": "f15c9168",
   "metadata": {},
   "source": [
    "[link \\[bar](/uri)\n"
   ]
  },
  {
   "cell_type": "markdown",
   "id": "ed2c1ae7",
   "metadata": {},
   "source": [
    "[link *foo **bar** `#`*](/uri)\n"
   ]
  },
  {
   "cell_type": "markdown",
   "id": "548f0ec7",
   "metadata": {},
   "source": [
    "[![moon](moon.jpg)](/uri)\n"
   ]
  },
  {
   "cell_type": "markdown",
   "id": "e73101f2",
   "metadata": {},
   "source": [
    "[foo [bar](/uri)](/uri)\n"
   ]
  },
  {
   "cell_type": "markdown",
   "id": "ab78c646",
   "metadata": {},
   "source": [
    "[foo *[bar [baz](/uri)](/uri)*](/uri)\n"
   ]
  },
  {
   "cell_type": "markdown",
   "id": "51f2f5ca",
   "metadata": {},
   "source": [
    "![[[foo](uri1)](uri2)](uri3)\n"
   ]
  },
  {
   "cell_type": "markdown",
   "id": "a50cc540",
   "metadata": {},
   "source": [
    "*[foo*](/uri)\n"
   ]
  },
  {
   "cell_type": "markdown",
   "id": "8dcbcab5",
   "metadata": {},
   "source": [
    "[foo *bar](baz*)\n"
   ]
  },
  {
   "cell_type": "markdown",
   "id": "77637bfd",
   "metadata": {},
   "source": [
    "*foo [bar* baz]\n"
   ]
  },
  {
   "cell_type": "markdown",
   "id": "0e3c3092",
   "metadata": {},
   "source": [
    "[foo <bar attr=\"](baz)\">\n"
   ]
  },
  {
   "cell_type": "markdown",
   "id": "5a080461",
   "metadata": {},
   "source": [
    "[foo`](/uri)`\n"
   ]
  },
  {
   "cell_type": "markdown",
   "id": "c1134097",
   "metadata": {},
   "source": [
    "[foo<https://example.com/?search=](uri)>\n"
   ]
  },
  {
   "cell_type": "markdown",
   "id": "0ddf485f",
   "metadata": {},
   "source": [
    "[foo][bar]\n",
    "\n",
    "[bar]: /url \"title\"\n"
   ]
  },
  {
   "cell_type": "markdown",
   "id": "6ab04b23",
   "metadata": {},
   "source": [
    "[link [foo [bar]]][ref]\n",
    "\n",
    "[ref]: /uri\n"
   ]
  },
  {
   "cell_type": "markdown",
   "id": "b384c287",
   "metadata": {},
   "source": [
    "[link \\[bar][ref]\n",
    "\n",
    "[ref]: /uri\n"
   ]
  },
  {
   "cell_type": "markdown",
   "id": "634e2586",
   "metadata": {},
   "source": [
    "[link *foo **bar** `#`*][ref]\n",
    "\n",
    "[ref]: /uri\n"
   ]
  },
  {
   "cell_type": "markdown",
   "id": "360393a9",
   "metadata": {},
   "source": [
    "[![moon](moon.jpg)][ref]\n",
    "\n",
    "[ref]: /uri\n"
   ]
  },
  {
   "cell_type": "markdown",
   "id": "5f9f26d3",
   "metadata": {},
   "source": [
    "[foo [bar](/uri)][ref]\n",
    "\n",
    "[ref]: /uri\n"
   ]
  },
  {
   "cell_type": "markdown",
   "id": "6940f0b2",
   "metadata": {},
   "source": [
    "[foo *bar [baz][ref]*][ref]\n",
    "\n",
    "[ref]: /uri\n"
   ]
  },
  {
   "cell_type": "markdown",
   "id": "32bef8eb",
   "metadata": {},
   "source": [
    "*[foo*][ref]\n",
    "\n",
    "[ref]: /uri\n"
   ]
  },
  {
   "cell_type": "markdown",
   "id": "44a6faf0",
   "metadata": {},
   "source": [
    "[foo *bar][ref]*\n",
    "\n",
    "[ref]: /uri\n"
   ]
  },
  {
   "cell_type": "markdown",
   "id": "8bdcd9e7",
   "metadata": {},
   "source": [
    "[foo <bar attr=\"][ref]\">\n",
    "\n",
    "[ref]: /uri\n"
   ]
  },
  {
   "cell_type": "markdown",
   "id": "5aadec6c",
   "metadata": {},
   "source": [
    "[foo`][ref]`\n",
    "\n",
    "[ref]: /uri\n"
   ]
  },
  {
   "cell_type": "markdown",
   "id": "1db6f096",
   "metadata": {},
   "source": [
    "[foo<https://example.com/?search=][ref]>\n",
    "\n",
    "[ref]: /uri\n"
   ]
  },
  {
   "cell_type": "markdown",
   "id": "1e19d8a4",
   "metadata": {},
   "source": [
    "[foo][BaR]\n",
    "\n",
    "[bar]: /url \"title\"\n"
   ]
  },
  {
   "cell_type": "markdown",
   "id": "3dce4faf",
   "metadata": {},
   "source": [
    "[ẞ]\n",
    "\n",
    "[SS]: /url\n"
   ]
  },
  {
   "cell_type": "markdown",
   "id": "f7cc2d83",
   "metadata": {},
   "source": [
    "[Foo\n",
    "  bar]: /url\n",
    "\n",
    "[Baz][Foo bar]\n"
   ]
  },
  {
   "cell_type": "markdown",
   "id": "72e4368d",
   "metadata": {},
   "source": [
    "[foo] [bar]\n",
    "\n",
    "[bar]: /url \"title\"\n"
   ]
  },
  {
   "cell_type": "markdown",
   "id": "2eeba380",
   "metadata": {},
   "source": [
    "[foo]\n",
    "[bar]\n",
    "\n",
    "[bar]: /url \"title\"\n"
   ]
  },
  {
   "cell_type": "markdown",
   "id": "6f08509a",
   "metadata": {},
   "source": [
    "[foo]: /url1\n",
    "\n",
    "[foo]: /url2\n",
    "\n",
    "[bar][foo]\n"
   ]
  },
  {
   "cell_type": "markdown",
   "id": "97b4104c",
   "metadata": {},
   "source": [
    "[bar][foo\\!]\n",
    "\n",
    "[foo!]: /url\n"
   ]
  },
  {
   "cell_type": "markdown",
   "id": "4e8bc10f",
   "metadata": {},
   "source": [
    "[foo][ref[]\n",
    "\n",
    "[ref[]: /uri\n"
   ]
  },
  {
   "cell_type": "markdown",
   "id": "c8aaa46c",
   "metadata": {},
   "source": [
    "[foo][ref[bar]]\n",
    "\n",
    "[ref[bar]]: /uri\n"
   ]
  },
  {
   "cell_type": "markdown",
   "id": "8daaab07",
   "metadata": {},
   "source": [
    "[[[foo]]]\n",
    "\n",
    "[[[foo]]]: /url\n"
   ]
  },
  {
   "cell_type": "markdown",
   "id": "131c3895",
   "metadata": {},
   "source": [
    "[foo][ref\\[]\n",
    "\n",
    "[ref\\[]: /uri\n"
   ]
  },
  {
   "cell_type": "markdown",
   "id": "c2ce2371",
   "metadata": {},
   "source": [
    "[bar\\\\]: /uri\n",
    "\n",
    "[bar\\\\]\n"
   ]
  },
  {
   "cell_type": "markdown",
   "id": "b47e4bfa",
   "metadata": {},
   "source": [
    "[]\n",
    "\n",
    "[]: /uri\n"
   ]
  },
  {
   "cell_type": "markdown",
   "id": "d3f23c8d",
   "metadata": {},
   "source": [
    "[\n",
    " ]\n",
    "\n",
    "[\n",
    " ]: /uri\n"
   ]
  },
  {
   "cell_type": "markdown",
   "id": "1b590bdb",
   "metadata": {},
   "source": [
    "[foo][]\n",
    "\n",
    "[foo]: /url \"title\"\n"
   ]
  },
  {
   "cell_type": "markdown",
   "id": "2df462fc",
   "metadata": {},
   "source": [
    "[*foo* bar][]\n",
    "\n",
    "[*foo* bar]: /url \"title\"\n"
   ]
  },
  {
   "cell_type": "markdown",
   "id": "3e39a3ea",
   "metadata": {},
   "source": [
    "[Foo][]\n",
    "\n",
    "[foo]: /url \"title\"\n"
   ]
  },
  {
   "cell_type": "markdown",
   "id": "f71eecc3",
   "metadata": {},
   "source": [
    "[foo] \n",
    "[]\n",
    "\n",
    "[foo]: /url \"title\"\n"
   ]
  },
  {
   "cell_type": "markdown",
   "id": "eebf55bc",
   "metadata": {},
   "source": [
    "[foo]\n",
    "\n",
    "[foo]: /url \"title\"\n"
   ]
  },
  {
   "cell_type": "markdown",
   "id": "4c11b5ca",
   "metadata": {},
   "source": [
    "[*foo* bar]\n",
    "\n",
    "[*foo* bar]: /url \"title\"\n"
   ]
  },
  {
   "cell_type": "markdown",
   "id": "81612524",
   "metadata": {},
   "source": [
    "[[*foo* bar]]\n",
    "\n",
    "[*foo* bar]: /url \"title\"\n"
   ]
  },
  {
   "cell_type": "markdown",
   "id": "3423849d",
   "metadata": {},
   "source": [
    "[[bar [foo]\n",
    "\n",
    "[foo]: /url\n"
   ]
  },
  {
   "cell_type": "markdown",
   "id": "646fafcc",
   "metadata": {},
   "source": [
    "[Foo]\n",
    "\n",
    "[foo]: /url \"title\"\n"
   ]
  },
  {
   "cell_type": "markdown",
   "id": "651e870c",
   "metadata": {},
   "source": [
    "[foo] bar\n",
    "\n",
    "[foo]: /url\n"
   ]
  },
  {
   "cell_type": "markdown",
   "id": "28f2d82d",
   "metadata": {},
   "source": [
    "\\[foo]\n",
    "\n",
    "[foo]: /url \"title\"\n"
   ]
  },
  {
   "cell_type": "markdown",
   "id": "f7da37eb",
   "metadata": {},
   "source": [
    "[foo*]: /url\n",
    "\n",
    "*[foo*]\n"
   ]
  },
  {
   "cell_type": "markdown",
   "id": "30cd7c76",
   "metadata": {},
   "source": [
    "[foo][bar]\n",
    "\n",
    "[foo]: /url1\n",
    "[bar]: /url2\n"
   ]
  },
  {
   "cell_type": "markdown",
   "id": "33b8d0a5",
   "metadata": {},
   "source": [
    "[foo][]\n",
    "\n",
    "[foo]: /url1\n"
   ]
  },
  {
   "cell_type": "markdown",
   "id": "c2ad3105",
   "metadata": {},
   "source": [
    "[foo]()\n",
    "\n",
    "[foo]: /url1\n"
   ]
  },
  {
   "cell_type": "markdown",
   "id": "7a6ff5ce",
   "metadata": {},
   "source": [
    "[foo](not a link)\n",
    "\n",
    "[foo]: /url1\n"
   ]
  },
  {
   "cell_type": "markdown",
   "id": "ba68e6b9",
   "metadata": {},
   "source": [
    "[foo][bar][baz]\n",
    "\n",
    "[baz]: /url\n"
   ]
  },
  {
   "cell_type": "markdown",
   "id": "0328f8c9",
   "metadata": {},
   "source": [
    "[foo][bar][baz]\n",
    "\n",
    "[baz]: /url1\n",
    "[bar]: /url2\n"
   ]
  },
  {
   "cell_type": "markdown",
   "id": "06ab67d5",
   "metadata": {},
   "source": [
    "[foo][bar][baz]\n",
    "\n",
    "[baz]: /url1\n",
    "[foo]: /url2\n"
   ]
  },
  {
   "cell_type": "markdown",
   "id": "4e3b55e0",
   "metadata": {},
   "source": [
    "![foo](/url \"title\")\n"
   ]
  },
  {
   "cell_type": "markdown",
   "id": "327241e1",
   "metadata": {},
   "source": [
    "![foo *bar*]\n",
    "\n",
    "[foo *bar*]: train.jpg \"train & tracks\"\n"
   ]
  },
  {
   "cell_type": "markdown",
   "id": "43d76cdc",
   "metadata": {},
   "source": [
    "![foo ![bar](/url)](/url2)\n"
   ]
  },
  {
   "cell_type": "markdown",
   "id": "80b5e226",
   "metadata": {},
   "source": [
    "![foo [bar](/url)](/url2)\n"
   ]
  },
  {
   "cell_type": "markdown",
   "id": "21862f81",
   "metadata": {},
   "source": [
    "![foo *bar*][]\n",
    "\n",
    "[foo *bar*]: train.jpg \"train & tracks\"\n"
   ]
  },
  {
   "cell_type": "markdown",
   "id": "9532e1d2",
   "metadata": {},
   "source": [
    "![foo *bar*][foobar]\n",
    "\n",
    "[FOOBAR]: train.jpg \"train & tracks\"\n"
   ]
  },
  {
   "cell_type": "markdown",
   "id": "9681ba1e",
   "metadata": {},
   "source": [
    "![foo](train.jpg)\n"
   ]
  },
  {
   "cell_type": "markdown",
   "id": "2546be89",
   "metadata": {},
   "source": [
    "My ![foo bar](/path/to/train.jpg  \"title\"   )\n"
   ]
  },
  {
   "cell_type": "markdown",
   "id": "b4360ad7",
   "metadata": {},
   "source": [
    "![foo](<url>)\n"
   ]
  },
  {
   "cell_type": "markdown",
   "id": "aaaa6737",
   "metadata": {},
   "source": [
    "![](/url)\n"
   ]
  },
  {
   "cell_type": "markdown",
   "id": "7c736682",
   "metadata": {},
   "source": [
    "![foo][bar]\n",
    "\n",
    "[bar]: /url\n"
   ]
  },
  {
   "cell_type": "markdown",
   "id": "346bc6ab",
   "metadata": {},
   "source": [
    "![foo][bar]\n",
    "\n",
    "[BAR]: /url\n"
   ]
  },
  {
   "cell_type": "markdown",
   "id": "d6de847f",
   "metadata": {},
   "source": [
    "![foo][]\n",
    "\n",
    "[foo]: /url \"title\"\n"
   ]
  },
  {
   "cell_type": "markdown",
   "id": "fdfabea7",
   "metadata": {},
   "source": [
    "![*foo* bar][]\n",
    "\n",
    "[*foo* bar]: /url \"title\"\n"
   ]
  },
  {
   "cell_type": "markdown",
   "id": "2935ec71",
   "metadata": {},
   "source": [
    "![Foo][]\n",
    "\n",
    "[foo]: /url \"title\"\n"
   ]
  },
  {
   "cell_type": "markdown",
   "id": "adb6589b",
   "metadata": {},
   "source": [
    "![foo] \n",
    "[]\n",
    "\n",
    "[foo]: /url \"title\"\n"
   ]
  },
  {
   "cell_type": "markdown",
   "id": "d2b3d193",
   "metadata": {},
   "source": [
    "![foo]\n",
    "\n",
    "[foo]: /url \"title\"\n"
   ]
  },
  {
   "cell_type": "markdown",
   "id": "ba9976bd",
   "metadata": {},
   "source": [
    "![*foo* bar]\n",
    "\n",
    "[*foo* bar]: /url \"title\"\n"
   ]
  },
  {
   "cell_type": "markdown",
   "id": "cbef765c",
   "metadata": {},
   "source": [
    "![[foo]]\n",
    "\n",
    "[[foo]]: /url \"title\"\n"
   ]
  },
  {
   "cell_type": "markdown",
   "id": "f0ef6f93",
   "metadata": {},
   "source": [
    "![Foo]\n",
    "\n",
    "[foo]: /url \"title\"\n"
   ]
  },
  {
   "cell_type": "markdown",
   "id": "bf735d3a",
   "metadata": {},
   "source": [
    "!\\[foo]\n",
    "\n",
    "[foo]: /url \"title\"\n"
   ]
  },
  {
   "cell_type": "markdown",
   "id": "23697982",
   "metadata": {},
   "source": [
    "\\![foo]\n",
    "\n",
    "[foo]: /url \"title\"\n"
   ]
  },
  {
   "cell_type": "markdown",
   "id": "5f79c3a0",
   "metadata": {},
   "source": [
    "<http://foo.bar.baz>\n"
   ]
  },
  {
   "cell_type": "markdown",
   "id": "6b593e4b",
   "metadata": {},
   "source": [
    "<https://foo.bar.baz/test?q=hello&id=22&boolean>\n"
   ]
  },
  {
   "cell_type": "markdown",
   "id": "abd80fb8",
   "metadata": {},
   "source": [
    "<irc://foo.bar:2233/baz>\n"
   ]
  },
  {
   "cell_type": "markdown",
   "id": "0a248b93",
   "metadata": {},
   "source": [
    "<MAILTO:FOO@BAR.BAZ>\n"
   ]
  },
  {
   "cell_type": "markdown",
   "id": "dd6ff21e",
   "metadata": {},
   "source": [
    "<a+b+c:d>\n"
   ]
  },
  {
   "cell_type": "markdown",
   "id": "ce17a68f",
   "metadata": {},
   "source": [
    "<made-up-scheme://foo,bar>\n"
   ]
  },
  {
   "cell_type": "markdown",
   "id": "54e75887",
   "metadata": {},
   "source": [
    "<https://../>\n"
   ]
  },
  {
   "cell_type": "markdown",
   "id": "7878948e",
   "metadata": {},
   "source": [
    "<localhost:5001/foo>\n"
   ]
  },
  {
   "cell_type": "markdown",
   "id": "5a20aafa",
   "metadata": {},
   "source": [
    "<https://foo.bar/baz bim>\n"
   ]
  },
  {
   "cell_type": "markdown",
   "id": "c9badc03",
   "metadata": {},
   "source": [
    "<https://example.com/\\[\\>\n"
   ]
  },
  {
   "cell_type": "markdown",
   "id": "cdc7d987",
   "metadata": {},
   "source": [
    "<foo@bar.example.com>\n"
   ]
  },
  {
   "cell_type": "markdown",
   "id": "1e24c769",
   "metadata": {},
   "source": [
    "<foo+special@Bar.baz-bar0.com>\n"
   ]
  },
  {
   "cell_type": "markdown",
   "id": "51691d53",
   "metadata": {},
   "source": [
    "<foo\\+@bar.example.com>\n"
   ]
  },
  {
   "cell_type": "markdown",
   "id": "a13b79ba",
   "metadata": {},
   "source": [
    "<>\n"
   ]
  },
  {
   "cell_type": "markdown",
   "id": "31bf7860",
   "metadata": {},
   "source": [
    "< https://foo.bar >\n"
   ]
  },
  {
   "cell_type": "markdown",
   "id": "3660a02d",
   "metadata": {},
   "source": [
    "<m:abc>\n"
   ]
  },
  {
   "cell_type": "markdown",
   "id": "c8f70e56",
   "metadata": {},
   "source": [
    "<foo.bar.baz>\n"
   ]
  },
  {
   "cell_type": "markdown",
   "id": "827240fc",
   "metadata": {},
   "source": [
    "https://example.com\n"
   ]
  },
  {
   "cell_type": "markdown",
   "id": "69e2e016",
   "metadata": {},
   "source": [
    "foo@bar.example.com\n"
   ]
  },
  {
   "cell_type": "markdown",
   "id": "de6ae31e",
   "metadata": {},
   "source": [
    "<a><bab><c2c>\n"
   ]
  },
  {
   "cell_type": "markdown",
   "id": "2d917698",
   "metadata": {},
   "source": [
    "<a/><b2/>\n"
   ]
  },
  {
   "cell_type": "markdown",
   "id": "9197a796",
   "metadata": {},
   "source": [
    "<a  /><b2\n",
    "data=\"foo\" >\n"
   ]
  },
  {
   "cell_type": "markdown",
   "id": "2edc712c",
   "metadata": {},
   "source": [
    "<a foo=\"bar\" bam = 'baz <em>\"</em>'\n",
    "_boolean zoop:33=zoop:33 />\n"
   ]
  },
  {
   "cell_type": "markdown",
   "id": "4bb1ef3d",
   "metadata": {},
   "source": [
    "Foo <responsive-image src=\"foo.jpg\" />\n"
   ]
  },
  {
   "cell_type": "markdown",
   "id": "c54db45f",
   "metadata": {},
   "source": [
    "<33> <__>\n"
   ]
  },
  {
   "cell_type": "markdown",
   "id": "4acd6ca3",
   "metadata": {},
   "source": [
    "<a h*#ref=\"hi\">\n"
   ]
  },
  {
   "cell_type": "markdown",
   "id": "f69dfb5f",
   "metadata": {},
   "source": [
    "<a href=\"hi'> <a href=hi'>\n"
   ]
  },
  {
   "cell_type": "markdown",
   "id": "4ab280fe",
   "metadata": {},
   "source": [
    "< a><\n",
    "foo><bar/ >\n",
    "<foo bar=baz\n",
    "bim!bop />\n"
   ]
  },
  {
   "cell_type": "markdown",
   "id": "ce058a5d",
   "metadata": {},
   "source": [
    "<a href='bar'title=title>\n"
   ]
  },
  {
   "cell_type": "markdown",
   "id": "de222f38",
   "metadata": {},
   "source": [
    "</a></foo >\n"
   ]
  },
  {
   "cell_type": "markdown",
   "id": "ee3fea52",
   "metadata": {},
   "source": [
    "</a href=\"foo\">\n"
   ]
  },
  {
   "cell_type": "markdown",
   "id": "3c75e67d",
   "metadata": {},
   "source": [
    "foo <!-- this is a --\n",
    "comment - with hyphens -->\n"
   ]
  },
  {
   "cell_type": "markdown",
   "id": "346b9e9c",
   "metadata": {},
   "source": [
    "foo <!--> foo -->\n",
    "\n",
    "foo <!---> foo -->\n"
   ]
  },
  {
   "cell_type": "markdown",
   "id": "7dafa151",
   "metadata": {},
   "source": [
    "foo <?php echo $a; ?>\n"
   ]
  },
  {
   "cell_type": "markdown",
   "id": "04c40a4f",
   "metadata": {},
   "source": [
    "foo <!ELEMENT br EMPTY>\n"
   ]
  },
  {
   "cell_type": "markdown",
   "id": "44c2c3d4",
   "metadata": {},
   "source": [
    "foo <![CDATA[>&<]]>\n"
   ]
  },
  {
   "cell_type": "markdown",
   "id": "10406e5f",
   "metadata": {},
   "source": [
    "foo <a href=\"&ouml;\">\n"
   ]
  },
  {
   "cell_type": "markdown",
   "id": "18168047",
   "metadata": {},
   "source": [
    "foo <a href=\"\\*\">\n"
   ]
  },
  {
   "cell_type": "markdown",
   "id": "41b5f212",
   "metadata": {},
   "source": [
    "<a href=\"\\\"\">\n"
   ]
  },
  {
   "cell_type": "markdown",
   "id": "5bd5dec4",
   "metadata": {},
   "source": [
    "<a\n",
    "> quoted text\n"
   ]
  },
  {
   "cell_type": "markdown",
   "id": "94395724",
   "metadata": {},
   "source": [
    "foo  \n",
    "baz\n"
   ]
  },
  {
   "cell_type": "markdown",
   "id": "c23042d7",
   "metadata": {},
   "source": [
    "foo\\\n",
    "baz\n"
   ]
  },
  {
   "cell_type": "markdown",
   "id": "7cf40c89",
   "metadata": {},
   "source": [
    "foo       \n",
    "baz\n"
   ]
  },
  {
   "cell_type": "markdown",
   "id": "a535face",
   "metadata": {},
   "source": [
    "foo  \n",
    "     bar\n"
   ]
  },
  {
   "cell_type": "markdown",
   "id": "85e33ac1",
   "metadata": {},
   "source": [
    "foo\\\n",
    "     bar\n"
   ]
  },
  {
   "cell_type": "markdown",
   "id": "5090b9d5",
   "metadata": {},
   "source": [
    "*foo  \n",
    "bar*\n"
   ]
  },
  {
   "cell_type": "markdown",
   "id": "87c277c5",
   "metadata": {},
   "source": [
    "*foo\\\n",
    "bar*\n"
   ]
  },
  {
   "cell_type": "markdown",
   "id": "6fc13bbf",
   "metadata": {},
   "source": [
    "`code  \n",
    "span`\n"
   ]
  },
  {
   "cell_type": "markdown",
   "id": "19e09474",
   "metadata": {},
   "source": [
    "`code\\\n",
    "span`\n"
   ]
  },
  {
   "cell_type": "markdown",
   "id": "13f3cfdd",
   "metadata": {},
   "source": [
    "<a href=\"foo  \n",
    "bar\">\n"
   ]
  },
  {
   "cell_type": "markdown",
   "id": "f4542e77",
   "metadata": {},
   "source": [
    "<a href=\"foo\\\n",
    "bar\">\n"
   ]
  },
  {
   "cell_type": "markdown",
   "id": "05b84ebf",
   "metadata": {},
   "source": [
    "foo\\\n"
   ]
  },
  {
   "cell_type": "markdown",
   "id": "9faef37c",
   "metadata": {},
   "source": [
    "foo  \n"
   ]
  },
  {
   "cell_type": "markdown",
   "id": "785397ba",
   "metadata": {},
   "source": [
    "### foo\\\n"
   ]
  },
  {
   "cell_type": "markdown",
   "id": "69284b74",
   "metadata": {},
   "source": [
    "### foo  \n"
   ]
  },
  {
   "cell_type": "markdown",
   "id": "2d9ef59a",
   "metadata": {},
   "source": [
    "foo\n",
    "baz\n"
   ]
  },
  {
   "cell_type": "markdown",
   "id": "41777130",
   "metadata": {},
   "source": [
    "foo \n",
    " baz\n"
   ]
  },
  {
   "cell_type": "markdown",
   "id": "9a2e9560",
   "metadata": {},
   "source": [
    "hello $.;'there\n"
   ]
  },
  {
   "cell_type": "markdown",
   "id": "7d83839a",
   "metadata": {},
   "source": [
    "Foo χρῆν\n"
   ]
  },
  {
   "cell_type": "markdown",
   "id": "a808e9e6",
   "metadata": {},
   "source": [
    "Multiple     spaces\n"
   ]
  }
 ],
 "metadata": {
  "language_info": {
   "name": "python"
  }
 },
 "nbformat": 4,
 "nbformat_minor": 5
}
