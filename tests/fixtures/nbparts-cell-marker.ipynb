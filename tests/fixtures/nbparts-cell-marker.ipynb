{
 "cells": [
  {
   "cell_type": "markdown",
   "id": "08731441-a097-4733-b026-1d2f66971a2e",
   "metadata": {},
   "source": [
    "<!-- nbparts:cell {\"attachments\":null,\"cellType\":\"markdown\",\"id\":\"08731441-a097-4733-b026-1d2f66971a2e\"} -->"
   ]
  },
  {
   "cell_type": "markdown",
   "id": "7cd2fb92-762b-496b-b2ec-d5acf45dd95c",
   "metadata": {},
   "source": [
    "foo <!-- nbparts:cell {\"attachments\":null,\"cellType\":\"markdown\",\"id\":\"08731441-a097-4733-b026-1d2f66971a2e\"} --> bar"
   ]
  },
  {
   "cell_type": "markdown",
   "id": "e1c1e0df-00b0-483d-9dc5-6ebd92ee8e51",
   "metadata": {},
   "source": [
    "<!-- nbparts:cell {\"attachments\":null,\"cellType\":\"markdown\",\"id\":\"08731441-a097-4733-b026-1d2f66971a2e\"} -->\n",
    "foo <!-- nbparts:cell {\"attachments\":null,\"cellType\":\"markdown\",\"id\":\"08731441-a097-4733-b026-1d2f66971a2e\"} --> bar"
   ]
  }
 ],
 "metadata": {
  "kernelspec": {
   "display_name": "Python 3 (ipykernel)",
   "language": "python",
   "name": "python3"
  },
  "language_info": {
   "codemirror_mode": {
    "name": "ipython",
    "version": 3
   },
   "file_extension": ".py",
   "mimetype": "text/x-python",
   "name": "python",
   "nbconvert_exporter": "python",
   "pygments_lexer": "ipython3",
   "version": "3.13.5"
  }
 },
 "nbformat": 4,
 "nbformat_minor": 5
}
